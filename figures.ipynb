{
 "cells": [
  {
   "cell_type": "code",
   "execution_count": 1,
   "metadata": {},
   "outputs": [],
   "source": [
    "# Load in libraries\n",
    "# Data loading / manipulation\n",
    "import pathlib\n",
    "import pandas as pd\n",
    "import numpy as np\n",
    "import warnings\n",
    "warnings.simplefilter(action='ignore', category=FutureWarning)\n",
    "# Plotting\n",
    "import cmocean\n",
    "import matplotlib\n",
    "import matplotlib.pyplot as plt\n",
    "import seaborn as sns\n",
    "# Statistics\n",
    "import astropy.stats\n",
    "import scipy.stats\n",
    "import scikit_posthocs\n",
    "import traja\n",
    "\n",
    "# Adjust plotting styles\n",
    "pd.options.mode.chained_assignment = None  # default='warn'\n",
    "plt.rcParams.update({'font.size': 20})\n",
    "plt.rcParams['axes.linewidth'] = 1.1\n",
    "plt.rcParams['xtick.major.width'] = 1.1\n",
    "plt.rcParams['ytick.major.width'] = 1.1\n",
    "BXPLT_PROPS = {\n",
    "    'boxprops':{'edgecolor':'black', 'linewidth': 1},\n",
    "    'medianprops':{'color':'black', 'linewidth': 1},\n",
    "    'whiskerprops':{'color':'black', 'linewidth': 1},\n",
    "    'capprops':{'color':'black', 'linewidth': 1}\n",
    "}  # sns"
   ]
  },
  {
   "cell_type": "code",
   "execution_count": 2,
   "metadata": {},
   "outputs": [],
   "source": [
    "data_root = pathlib.Path(\"datasets\")\n",
    "experiment_run_date = \"2023-12-03\"\n",
    "nbins = 24  # Data binned by 'nbins' many bins of angles around 360 degrees to the dancer\n",
    "max_antenna_angle = 90  # Maximum angle (degrees) of the antenna relative to the nestmate's midline / body axis\n",
    "\n",
    "my_colors = [\"#2E22EA\",\"#9E3DFB\",\"#F86BE2\",\"#FCCE7B\",\"#C4E416\",\"#4BBA0F\",\"#447D87\",\"#2C24E9\"]\n",
    "cmap = matplotlib.colors.LinearSegmentedColormap.from_list(\"\", my_colors)"
   ]
  },
  {
   "cell_type": "markdown",
   "metadata": {},
   "source": [
    "# Nestmate angles (Fig. 1)"
   ]
  },
  {
   "cell_type": "markdown",
   "metadata": {},
   "source": [
    "### Histogram: Batchelet's straightness index (1B)"
   ]
  },
  {
   "cell_type": "code",
   "execution_count": 3,
   "metadata": {},
   "outputs": [
    {
     "name": "stdout",
     "output_type": "stream",
     "text": [
      "Phases (total): 59\n",
      "Bees (total): 47\n"
     ]
    },
    {
     "data": {
      "image/png": "[encoded data removed]",
      "text/plain": [
       "<Figure size 220x170 with 2 Axes>"
      ]
     },
     "metadata": {},
     "output_type": "display_data"
    }
   ],
   "source": [
    "straightness_df = pd.read_csv(data_root / \"orientation_straightness.csv\").sort_values(by=[\"straightness\"]).reset_index()\n",
    "print(\"Phases (total):\", straightness_df.index.shape[0])\n",
    "print(\"Bees (total):\", straightness_df[~straightness_df[\"bee_id\"].str.contains(\"_\")].shape[0])\n",
    "\n",
    "plt.figure(figsize=(2.2, 1.7))\n",
    "plt.scatter(straightness_df.index, straightness_df[\"straightness\"], s=7, c=straightness_df[\"straightness\"], cmap=cmocean.cm.balance, norm=plt.Normalize(0, 1),)\n",
    "ax = plt.gca()\n",
    "plt.ylim(-0.05)\n",
    "plt.yticks([0, 1])\n",
    "ax.set_yticklabels([\"\", \"\"])\n",
    "plt.xlim(-2.5, 60.5)\n",
    "plt.xticks([0, 60])\n",
    "ax.set_xticklabels([\"\", \"\"])\n",
    "ax.set_xlabel(\"\")\n",
    "ax.spines[['top', 'right']].set_visible(False)\n",
    "cbar = plt.colorbar(pad=0.1, aspect=14)\n",
    "cbar.set_ticks([0, 1])\n",
    "cbar.set_ticklabels([\"\", \"\"])\n",
    "plt.show()"
   ]
  },
  {
   "cell_type": "markdown",
   "metadata": {},
   "source": [
    "### Polar plots: stable and changing body axes angles (1C)"
   ]
  },
  {
   "cell_type": "code",
   "execution_count": 4,
   "metadata": {},
   "outputs": [
    {
     "data": {
      "text/html": [
       "<div>\n",
       "<style scoped>\n",
       "    .dataframe tbody tr th:only-of-type {\n",
       "        vertical-align: middle;\n",
       "    }\n",
       "\n",
       "    .dataframe tbody tr th {\n",
       "        vertical-align: top;\n",
       "    }\n",
       "\n",
       "    .dataframe thead th {\n",
       "        text-align: right;\n",
       "    }\n",
       "</style>\n",
       "<table border=\"1\" class=\"dataframe\">\n",
       "  <thead>\n",
       "    <tr style=\"text-align: right;\">\n",
       "      <th></th>\n",
       "      <th>bee_id</th>\n",
       "      <th>x</th>\n",
       "      <th>y</th>\n",
       "      <th>index</th>\n",
       "      <th>straightness</th>\n",
       "      <th>sinuosity</th>\n",
       "      <th>category</th>\n",
       "    </tr>\n",
       "  </thead>\n",
       "  <tbody>\n",
       "    <tr>\n",
       "      <th>0</th>\n",
       "      <td>n36</td>\n",
       "      <td>-0.462367</td>\n",
       "      <td>-0.201733</td>\n",
       "      <td>30.0</td>\n",
       "      <td>0.708068</td>\n",
       "      <td>32.108894</td>\n",
       "      <td>Stable</td>\n",
       "    </tr>\n",
       "    <tr>\n",
       "      <th>1</th>\n",
       "      <td>n36</td>\n",
       "      <td>-0.511980</td>\n",
       "      <td>0.856134</td>\n",
       "      <td>30.0</td>\n",
       "      <td>0.708068</td>\n",
       "      <td>32.108894</td>\n",
       "      <td>Stable</td>\n",
       "    </tr>\n",
       "    <tr>\n",
       "      <th>2</th>\n",
       "      <td>n36</td>\n",
       "      <td>-0.611495</td>\n",
       "      <td>1.894183</td>\n",
       "      <td>30.0</td>\n",
       "      <td>0.708068</td>\n",
       "      <td>32.108894</td>\n",
       "      <td>Stable</td>\n",
       "    </tr>\n",
       "    <tr>\n",
       "      <th>3</th>\n",
       "      <td>n36</td>\n",
       "      <td>-0.758592</td>\n",
       "      <td>2.913269</td>\n",
       "      <td>30.0</td>\n",
       "      <td>0.708068</td>\n",
       "      <td>32.108894</td>\n",
       "      <td>Stable</td>\n",
       "    </tr>\n",
       "    <tr>\n",
       "      <th>4</th>\n",
       "      <td>n36</td>\n",
       "      <td>-0.950952</td>\n",
       "      <td>3.914249</td>\n",
       "      <td>30.0</td>\n",
       "      <td>0.708068</td>\n",
       "      <td>32.108894</td>\n",
       "      <td>Stable</td>\n",
       "    </tr>\n",
       "  </tbody>\n",
       "</table>\n",
       "</div>"
      ],
      "text/plain": [
       "  bee_id         x         y  index  straightness  sinuosity category\n",
       "0    n36 -0.462367 -0.201733   30.0      0.708068  32.108894   Stable\n",
       "1    n36 -0.511980  0.856134   30.0      0.708068  32.108894   Stable\n",
       "2    n36 -0.611495  1.894183   30.0      0.708068  32.108894   Stable\n",
       "3    n36 -0.758592  2.913269   30.0      0.708068  32.108894   Stable\n",
       "4    n36 -0.950952  3.914249   30.0      0.708068  32.108894   Stable"
      ]
     },
     "execution_count": 4,
     "metadata": {},
     "output_type": "execute_result"
    }
   ],
   "source": [
    "# Uncomment to generate and export (x,y) coordinates of nestmates mean body axis orientation (if not already done)\n",
    "# orientations_df = pd.read_csv(list((data_root).glob(f\"{experiment_run_date}-orientations.csv\"))[0])\n",
    "# for name, group in orientations_df.groupby(\"bee_id\"):\n",
    "#     time_range = (group.index - group.index[0]).values\n",
    "#     group[\"x\"] = np.cos(group[\"mean_orientation\"]) * time_range\n",
    "#     group[\"y\"] = np.sin(group[\"mean_orientation\"]) * time_range\n",
    "#     group[[\"x\", \"y\"]].to_csv(f\"{data_root / 'nestmates_coordinates'}/{name}-coords.csv\", index=False)\n",
    "#     plt.plot(group[\"x\"], group[\"y\"])\n",
    "# plt.gca().set_aspect('equal', adjustable='box')\n",
    "\n",
    "straightness_df = pd.read_csv(data_root / \"orientation_straightness.csv\").sort_values(by=[\"straightness\"]).reset_index()\n",
    "# Add category of stable versus changing\n",
    "straightness_df[\"category\"] = straightness_df.apply(lambda bee: \"Changing\" if bee[\"straightness\"] < 0.5 else \"Stable\", axis=1)\n",
    "# Load coordinates and smooth using Savitzky-Golay filter\n",
    "coords_dfs = {}\n",
    "for coords in list((data_root / 'nestmates_coordinates').glob(\"*.csv\")):\n",
    "    bee_id = coords.stem.split(\"-\")[0]\n",
    "    df = traja.read_file(str(coords))\n",
    "    coords_dfs[bee_id] = df\n",
    "df = pd.concat(coords_dfs).reset_index().drop(columns=[\"level_1\"]).rename(columns={\"level_0\": \"bee_id\"})\n",
    "smoothed_df = df.groupby(\"bee_id\", group_keys=False).apply(lambda bee_df: traja.smooth_sg(bee_df, w=31) if bee_df.shape[0] > 31 else bee_df)\n",
    "smoothed_df = smoothed_df.join(straightness_df.set_index(\"bee_id\"), on=\"bee_id\") \n",
    "smoothed_df.head()"
   ]
  },
  {
   "cell_type": "code",
   "execution_count": 5,
   "metadata": {},
   "outputs": [
    {
     "data": {
      "image/png": "[encoded data removed]",
      "text/plain": [
       "<Figure size 400x270 with 2 Axes>"
      ]
     },
     "metadata": {},
     "output_type": "display_data"
    }
   ],
   "source": [
    "# Plot all of stable trajectories and a subsample of the changing trajectories\n",
    "fig, axs = plt.subplots(1, 2, figsize=(4, 2.7))\n",
    "stable_df = smoothed_df[(smoothed_df[\"category\"] == \"Stable\") & (smoothed_df[\"straightness\"] > 0.75)]\n",
    "for bee_id, group in stable_df.groupby(\"bee_id\"):\n",
    "    frames = group.shape[0]\n",
    "    axs[0].plot(group[\"x\"], group[\"y\"], c=cmocean.cm.balance(group[\"straightness\"].iloc[0]))\n",
    "max_time_stable = 100  # 0.5 seconds\n",
    "circ = plt.Circle((0.0, 0.0), max_time_stable, fill=False, zorder=2)\n",
    "axs[0].set_xlim(-max_time_stable-1, max_time_stable+1)\n",
    "axs[0].set_ylim(-max_time_stable-3, max_time_stable+1)\n",
    "axs[0].add_artist(circ)\n",
    "axs[0].axhline(0, color=\"#BCBCBC\", linewidth=1, zorder=0)\n",
    "axs[0].axvline(0, color=\"#BCBCBC\", linewidth=1, zorder=0)\n",
    "\n",
    "changing_df = smoothed_df[smoothed_df[\"category\"] == \"Changing\"]\n",
    "changing_df = changing_df[changing_df[\"bee_id\"].isin(changing_df[\"bee_id\"].sample(14))]\n",
    "for bee_id, group in changing_df.groupby(\"bee_id\"):\n",
    "    frames = group.shape[0]\n",
    "    axs[1].plot(group[\"x\"], group[\"y\"], c=cmocean.cm.balance(group[\"straightness\"].iloc[0]))\n",
    "max_time_changing = 400  # 2 seconds\n",
    "circ = plt.Circle((0.0, 0.0), max_time_changing, fill=False, zorder=2)\n",
    "axs[1].set_xlim(-max_time_changing-2, max_time_changing+3)\n",
    "axs[1].set_ylim(-max_time_changing-3, max_time_changing+3)\n",
    "axs[1].add_artist(circ)\n",
    "axs[1].axhline(0, color=\"#BCBCBC\", linewidth=1, zorder=0)\n",
    "axs[1].axvline(0, color=\"#BCBCBC\", linewidth=1, zorder=0)\n",
    "\n",
    "axs[0].set_aspect(1)\n",
    "axs[0].axis(\"off\")\n",
    "axs[1].set_aspect(1)\n",
    "axs[1].axis(\"off\")\n",
    "plt.tight_layout()"
   ]
  },
  {
   "cell_type": "code",
   "execution_count": 6,
   "metadata": {},
   "outputs": [
    {
     "name": "stdout",
     "output_type": "stream",
     "text": [
      "10 stable plotted.\n",
      "11 changing plotted.\n"
     ]
    },
    {
     "data": {
      "text/html": [
       "<div>\n",
       "<style scoped>\n",
       "    .dataframe tbody tr th:only-of-type {\n",
       "        vertical-align: middle;\n",
       "    }\n",
       "\n",
       "    .dataframe tbody tr th {\n",
       "        vertical-align: top;\n",
       "    }\n",
       "\n",
       "    .dataframe thead th {\n",
       "        text-align: right;\n",
       "    }\n",
       "</style>\n",
       "<table border=\"1\" class=\"dataframe\">\n",
       "  <thead>\n",
       "    <tr style=\"text-align: right;\">\n",
       "      <th></th>\n",
       "      <th>bee_id</th>\n",
       "    </tr>\n",
       "    <tr>\n",
       "      <th>category</th>\n",
       "      <th></th>\n",
       "    </tr>\n",
       "  </thead>\n",
       "  <tbody>\n",
       "    <tr>\n",
       "      <th>Changing</th>\n",
       "      <td>37</td>\n",
       "    </tr>\n",
       "    <tr>\n",
       "      <th>Stable</th>\n",
       "      <td>22</td>\n",
       "    </tr>\n",
       "  </tbody>\n",
       "</table>\n",
       "</div>"
      ],
      "text/plain": [
       "          bee_id\n",
       "category        \n",
       "Changing      37\n",
       "Stable        22"
      ]
     },
     "execution_count": 6,
     "metadata": {},
     "output_type": "execute_result"
    }
   ],
   "source": [
    "print(stable_df[\"bee_id\"].unique().shape[0], \"stable plotted.\")\n",
    "print(changing_df[\"bee_id\"].unique().shape[0], \"changing plotted.\")\n",
    "smoothed_df.groupby(\"category\").agg({\"bee_id\": \"nunique\"})"
   ]
  },
  {
   "cell_type": "markdown",
   "metadata": {},
   "source": [
    "# Antennae angles (Figs. 1, S2)"
   ]
  },
  {
   "cell_type": "markdown",
   "metadata": {},
   "source": [
    "### Ribbon plot: left and right antennae angles (1E)\n",
    "\n",
    "Uses the angle defined by the full length of antenna if available, and if not visible, then the angle defined by mid-length or bend."
   ]
  },
  {
   "cell_type": "code",
   "execution_count": 7,
   "metadata": {},
   "outputs": [
    {
     "data": {
      "image/png": "[encoded data removed]",
      "text/plain": [
       "<Figure size 170x170 with 1 Axes>"
      ]
     },
     "metadata": {},
     "output_type": "display_data"
    }
   ],
   "source": [
    "tmp_bin_size = 48\n",
    "binned_df = pd.read_csv(list((data_root).glob(f\"{experiment_run_date}-{tmp_bin_size}-binned.csv\"))[0])\n",
    "binned_df = binned_df.sort_values(by=\"remapped_bin_angle_to_dancer_deg\")\n",
    "\n",
    "plt.figure(figsize=(1.7, 1.7))\n",
    "ax = plt.subplot(projection='polar')\n",
    "ribbon_low = binned_df[\"l_antenna_mean_deg\"] - binned_df[\"l_antenna_std_deg\"]\n",
    "ribbon_high = binned_df[\"l_antenna_mean_deg\"] + binned_df[\"l_antenna_std_deg\"]\n",
    "remapped = np.concatenate((binned_df[\"remapped_bin_angle_to_dancer_rad\"], [np.radians(360)]))\n",
    "ribbon_low = np.concatenate((ribbon_low, [ribbon_low.iloc[0]]))  # To fix wrapping\n",
    "ribbon_high = np.concatenate((ribbon_high, [ribbon_high.iloc[0]]))\n",
    "plt.fill_between(remapped, y1=ribbon_low, y2=ribbon_high, color=\"#A0B535\", alpha=0.3) \n",
    "plt.scatter(binned_df[\"remapped_bin_angle_to_dancer_rad\"], binned_df[\"l_antenna_mean_deg\"], s=2, c=\"#33813E\")\n",
    "\n",
    "ribbon_low = np.abs(binned_df[\"r_antenna_mean_deg\"]) - binned_df[\"r_antenna_std_deg\"]\n",
    "ribbon_high = np.abs(binned_df[\"r_antenna_mean_deg\"]) + binned_df[\"r_antenna_std_deg\"]\n",
    "ribbon_low = np.concatenate((ribbon_low, [ribbon_low.iloc[-1]])) # To fix wrapping\n",
    "ribbon_high = np.concatenate((ribbon_high, [ribbon_high.iloc[0]]))\n",
    "remapped = np.concatenate((binned_df[\"remapped_bin_angle_to_dancer_rad\"], [np.radians(360)]))\n",
    "plt.fill_between(remapped, y1=ribbon_low, y2=ribbon_high, color=\"#FF8F8F\", alpha=0.3) \n",
    "plt.scatter(binned_df[\"remapped_bin_angle_to_dancer_rad\"], np.abs(binned_df[\"r_antenna_mean_deg\"]), s=2, c=\"#FB00FF\")\n",
    "\n",
    "ax.set_ylim([0, 90])\n",
    "ax.set_yticks([0, 45, 90])\n",
    "ax.set_yticklabels([\"\", \"\", \"\"])\n",
    "ax.set_theta_zero_location(\"N\")\n",
    "ax.set_thetamin(-180)\n",
    "ax.set_thetamax(180)\n",
    "plt.thetagrids([0, 90, 180, -90])\n",
    "ax.set_xticklabels([\"\", \"\", \"\", \"\"])\n",
    "ax.spines['polar'].set_visible(False)\n",
    "ax.grid(False)\n",
    "circle = plt.Circle((0.0, 0.0), 90, transform=ax.transData._b, fill=False, linewidth=1.5, zorder=2)\n",
    "ax.add_artist(circle)\n",
    "lw = 0.7\n",
    "circle = plt.Circle((0.0, 0.0), 45, transform=ax.transData._b, fill=False, linewidth=0.7, color=\"#BCBCBC\", zorder=-1)\n",
    "ax.add_artist(circle)\n",
    "\n",
    "ax.axvline(0, 0, 180, color=\"#BCBCBC\", linewidth=lw, zorder=-1, alpha=0.5)\n",
    "ax.axvline(np.radians(180), 0, 180, color=\"#BCBCBC\", linewidth=lw, zorder=-1, alpha=0.5)\n",
    "ax.axvline(np.radians(90), 0, 180, color=\"#BCBCBC\", linewidth=lw, zorder=-1, alpha=0.5)\n",
    "ax.axvline(np.radians(-90), 0, 180, color=\"#BCBCBC\", linewidth=lw, zorder=-1, alpha=0.5)\n",
    "plt.show()"
   ]
  },
  {
   "cell_type": "markdown",
   "metadata": {},
   "source": [
    "### Ribbon plot: left and right antennae angles using full-length (S2C top)\n",
    "\n",
    "Uses the angles defined by the full length of the antennae only"
   ]
  },
  {
   "cell_type": "code",
   "execution_count": 8,
   "metadata": {},
   "outputs": [
    {
     "data": {
      "image/png": "[encoded data removed]",
      "text/plain": [
       "<Figure size 170x170 with 1 Axes>"
      ]
     },
     "metadata": {},
     "output_type": "display_data"
    }
   ],
   "source": [
    "tmp_bin_size = 48\n",
    "binned_df = pd.read_csv(list((data_root).glob(f\"{experiment_run_date}-full_antenna_len-{tmp_bin_size}-binned.csv\"))[0])\n",
    "binned_df = binned_df.sort_values(by=\"remapped_bin_angle_to_dancer_deg\")\n",
    "\n",
    "plt.figure(figsize=(1.7, 1.7))\n",
    "ax = plt.subplot(projection='polar')\n",
    "ribbon_low = binned_df[\"l_antenna_mean_deg\"] - binned_df[\"l_antenna_std_deg\"]\n",
    "ribbon_high = binned_df[\"l_antenna_mean_deg\"] + binned_df[\"l_antenna_std_deg\"]\n",
    "remapped = np.concatenate((binned_df[\"remapped_bin_angle_to_dancer_rad\"], [np.radians(360)]))\n",
    "ribbon_low = np.concatenate((ribbon_low, [ribbon_low.iloc[0]]))  # To fix wrapping\n",
    "ribbon_high = np.concatenate((ribbon_high, [ribbon_high.iloc[0]]))\n",
    "plt.fill_between(remapped, y1=ribbon_low, y2=ribbon_high, color=\"#A0B535\", alpha=0.3) \n",
    "plt.scatter(binned_df[\"remapped_bin_angle_to_dancer_rad\"], binned_df[\"l_antenna_mean_deg\"], s=2, c=\"#33813E\")\n",
    "\n",
    "ribbon_low = np.abs(binned_df[\"r_antenna_mean_deg\"]) - binned_df[\"r_antenna_std_deg\"]\n",
    "ribbon_high = np.abs(binned_df[\"r_antenna_mean_deg\"]) + binned_df[\"r_antenna_std_deg\"]\n",
    "ribbon_low = np.concatenate((ribbon_low, [ribbon_low.iloc[-1]])) # To fix wrapping\n",
    "ribbon_high = np.concatenate((ribbon_high, [ribbon_high.iloc[0]]))\n",
    "remapped = np.concatenate((binned_df[\"remapped_bin_angle_to_dancer_rad\"], [np.radians(360)]))\n",
    "plt.fill_between(remapped, y1=ribbon_low, y2=ribbon_high, color=\"#FF8F8F\", alpha=0.3) \n",
    "plt.scatter(binned_df[\"remapped_bin_angle_to_dancer_rad\"], np.abs(binned_df[\"r_antenna_mean_deg\"]), s=2, c=\"#FB00FF\")\n",
    "\n",
    "ax.set_ylim([0, 90])\n",
    "ax.set_yticks([0, 45, 90])\n",
    "ax.set_yticklabels([\"\", \"\", \"\"])\n",
    "ax.set_theta_zero_location(\"N\")\n",
    "ax.set_thetamin(-180)\n",
    "ax.set_thetamax(180)\n",
    "plt.thetagrids([0, 90, 180, -90])\n",
    "ax.set_xticklabels([\"\", \"\", \"\", \"\"])\n",
    "ax.spines['polar'].set_visible(False)\n",
    "ax.grid(False)\n",
    "circle = plt.Circle((0.0, 0.0), 90, transform=ax.transData._b, fill=False, linewidth=1.5, zorder=2)\n",
    "ax.add_artist(circle)\n",
    "lw = 0.7\n",
    "circle = plt.Circle((0.0, 0.0), 45, transform=ax.transData._b, fill=False, linewidth=0.7, color=\"#BCBCBC\", zorder=-1)\n",
    "ax.add_artist(circle)\n",
    "\n",
    "ax.axvline(0, 0, 180, color=\"#BCBCBC\", linewidth=lw, zorder=-1, alpha=0.5)\n",
    "ax.axvline(np.radians(180), 0, 180, color=\"#BCBCBC\", linewidth=lw, zorder=-1, alpha=0.5)\n",
    "ax.axvline(np.radians(90), 0, 180, color=\"#BCBCBC\", linewidth=lw, zorder=-1, alpha=0.5)\n",
    "ax.axvline(np.radians(-90), 0, 180, color=\"#BCBCBC\", linewidth=lw, zorder=-1, alpha=0.5)\n",
    "plt.show()"
   ]
  },
  {
   "cell_type": "markdown",
   "metadata": {},
   "source": [
    "### Ribbon plot: left and right antennae angles using mid-length (S2C bottom)\n",
    "\n",
    "Uses the angles defined by the mid-length of the antennae only"
   ]
  },
  {
   "cell_type": "code",
   "execution_count": 9,
   "metadata": {},
   "outputs": [
    {
     "data": {
      "image/png": "[encoded data removed]",
      "text/plain": [
       "<Figure size 170x170 with 1 Axes>"
      ]
     },
     "metadata": {},
     "output_type": "display_data"
    }
   ],
   "source": [
    "tmp_bin_size = 48\n",
    "binned_df = pd.read_csv(list((data_root).glob(f\"{experiment_run_date}-mid_antenna_len-{tmp_bin_size}-binned.csv\"))[0])\n",
    "binned_df = binned_df.sort_values(by=\"remapped_bin_angle_to_dancer_deg\")\n",
    "\n",
    "plt.figure(figsize=(1.7, 1.7))\n",
    "ax = plt.subplot(projection='polar')\n",
    "ribbon_low = binned_df[\"l_antenna_mean_deg\"] - binned_df[\"l_antenna_std_deg\"]\n",
    "ribbon_high = binned_df[\"l_antenna_mean_deg\"] + binned_df[\"l_antenna_std_deg\"]\n",
    "remapped = np.concatenate((binned_df[\"remapped_bin_angle_to_dancer_rad\"], [np.radians(360)]))\n",
    "ribbon_low = np.concatenate((ribbon_low, [ribbon_low.iloc[0]]))  # To fix wrapping\n",
    "ribbon_high = np.concatenate((ribbon_high, [ribbon_high.iloc[0]]))\n",
    "plt.fill_between(remapped, y1=ribbon_low, y2=ribbon_high, color=\"#A0B535\", alpha=0.3) \n",
    "plt.scatter(binned_df[\"remapped_bin_angle_to_dancer_rad\"], binned_df[\"l_antenna_mean_deg\"], s=2, c=\"#33813E\")\n",
    "\n",
    "ribbon_low = np.abs(binned_df[\"r_antenna_mean_deg\"]) - binned_df[\"r_antenna_std_deg\"]\n",
    "ribbon_high = np.abs(binned_df[\"r_antenna_mean_deg\"]) + binned_df[\"r_antenna_std_deg\"]\n",
    "ribbon_low = np.concatenate((ribbon_low, [ribbon_low.iloc[-1]])) # To fix wrapping\n",
    "ribbon_high = np.concatenate((ribbon_high, [ribbon_high.iloc[0]]))\n",
    "remapped = np.concatenate((binned_df[\"remapped_bin_angle_to_dancer_rad\"], [np.radians(360)]))\n",
    "plt.fill_between(remapped, y1=ribbon_low, y2=ribbon_high, color=\"#FF8F8F\", alpha=0.3) \n",
    "plt.scatter(binned_df[\"remapped_bin_angle_to_dancer_rad\"], np.abs(binned_df[\"r_antenna_mean_deg\"]), s=2, c=\"#FB00FF\")\n",
    "\n",
    "ax.set_ylim([0, 90])\n",
    "ax.set_yticks([0, 45, 90])\n",
    "ax.set_yticklabels([\"\", \"\", \"\"])\n",
    "ax.set_theta_zero_location(\"N\")\n",
    "ax.set_thetamin(-180)\n",
    "ax.set_thetamax(180)\n",
    "plt.thetagrids([0, 90, 180, -90])\n",
    "ax.set_xticklabels([\"\", \"\", \"\", \"\"])\n",
    "ax.spines['polar'].set_visible(False)\n",
    "ax.grid(False)\n",
    "circle = plt.Circle((0.0, 0.0), 90, transform=ax.transData._b, fill=False, linewidth=1.5, zorder=2)\n",
    "ax.add_artist(circle)\n",
    "lw = 0.7\n",
    "circle = plt.Circle((0.0, 0.0), 45, transform=ax.transData._b, fill=False, linewidth=0.7, color=\"#BCBCBC\", zorder=-1)\n",
    "ax.add_artist(circle)\n",
    "\n",
    "ax.axvline(0, 0, 180, color=\"#BCBCBC\", linewidth=lw, zorder=-1, alpha=0.5)\n",
    "ax.axvline(np.radians(180), 0, 180, color=\"#BCBCBC\", linewidth=lw, zorder=-1, alpha=0.5)\n",
    "ax.axvline(np.radians(90), 0, 180, color=\"#BCBCBC\", linewidth=lw, zorder=-1, alpha=0.5)\n",
    "ax.axvline(np.radians(-90), 0, 180, color=\"#BCBCBC\", linewidth=lw, zorder=-1, alpha=0.5)\n",
    "plt.show()"
   ]
  },
  {
   "cell_type": "markdown",
   "metadata": {},
   "source": [
    "### Ribbon plot: antennae midpoint versus angle to dancer (1F)"
   ]
  },
  {
   "cell_type": "code",
   "execution_count": 10,
   "metadata": {},
   "outputs": [
    {
     "data": {
      "image/png": "[encoded data removed]",
      "text/plain": [
       "<Figure size 180x170 with 1 Axes>"
      ]
     },
     "metadata": {},
     "output_type": "display_data"
    }
   ],
   "source": [
    "# Load data binned by angle to dancer\n",
    "binned_df = pd.read_csv(list((data_root).glob(f\"{experiment_run_date}-{nbins}-binned.csv\"))[0])\n",
    "binned_df = binned_df.sort_values(by=\"remapped_bin_angle_to_dancer_deg\")\n",
    "\n",
    "plt.figure(figsize=(1.8, 1.7))\n",
    "ribbon_low = binned_df[\"midpt_mean_deg\"] - binned_df[\"midpt_std_deg\"]\n",
    "ribbon_high = binned_df[\"midpt_mean_deg\"] + binned_df[\"midpt_std_deg\"]\n",
    "plt.fill_between(binned_df[\"remapped_bin_angle_to_dancer_deg\"], y1=ribbon_low, y2=ribbon_high, color=\"lightgray\", alpha=0.7) \n",
    "plt.scatter(binned_df[\"remapped_bin_angle_to_dancer_deg\"], binned_df[\"midpt_mean_deg\"], s=7, c=\"black\")\n",
    "ax = plt.gca()\n",
    "ax.set_yticks([-30, 0, 30])\n",
    "ax.set_yticklabels([\"\", \"\", \"\"])\n",
    "ax.set_ylim(-40, 40)\n",
    "ax.set_xticks([0, 180, 360])\n",
    "ax.set_xticklabels([\"\", \"\", \"\"])\n",
    "ax.set_xlim(-10, 360)\n",
    "ax.set_xlabel(\"\")\n",
    "ax.spines[['top', 'right']].set_visible(False)"
   ]
  },
  {
   "cell_type": "code",
   "execution_count": 11,
   "metadata": {},
   "outputs": [
    {
     "name": "stdout",
     "output_type": "stream",
     "text": [
      "Circ correlation coefficient: -0.56\n"
     ]
    }
   ],
   "source": [
    "# Circular correlation coefficient\n",
    "features_df = pd.read_csv(list((data_root).glob(f\"{experiment_run_date}-features.csv\"))[0])\n",
    "corr = astropy.stats.circcorrcoef(features_df[\"angle_to_dancer_rad\"], features_df[\"antenna_midpoint_rad\"])\n",
    "print(\"Circ correlation coefficient:\", np.round(corr, 2))"
   ]
  },
  {
   "cell_type": "markdown",
   "metadata": {},
   "source": [
    "### Scatter plot: mean left versus right antenne angles using full-length (S2D top)"
   ]
  },
  {
   "cell_type": "code",
   "execution_count": 12,
   "metadata": {},
   "outputs": [
    {
     "data": {
      "image/png": "[encoded data removed]",
      "text/plain": [
       "<Figure size 180x170 with 1 Axes>"
      ]
     },
     "metadata": {},
     "output_type": "display_data"
    }
   ],
   "source": [
    "tmp_bin_size = 120\n",
    "binned_df = pd.read_csv(list((data_root).glob(f\"{experiment_run_date}-full_antenna_len-{tmp_bin_size}-binned.csv\"))[0])\n",
    "binned_df = binned_df.sort_values(by=\"remapped_bin_angle_to_dancer_deg\")\n",
    "\n",
    "plt.figure(figsize=(1.8, 1.7))\n",
    "plt.scatter(binned_df[\"l_antenna_mean_deg\"], binned_df[\"r_antenna_mean_deg\"], s=5, c=binned_df[\"bin_angle_to_dancer_deg\"], cmap=cmap, norm=plt.Normalize(-180,180))\n",
    "plt.ylim(None, -15)\n",
    "plt.xlim(15)\n",
    "plt.xticks([20, 90])\n",
    "plt.yticks([-20, -90])\n",
    "ax = plt.gca()\n",
    "ax.set_aspect(\"equal\")\n",
    "ax.invert_yaxis()\n",
    "ax.set_yticklabels([\"\", \"\"])\n",
    "ax.set_xticklabels([\"\", \"\"])\n",
    "ax.spines[['top', 'right']].set_visible(False)\n",
    "plt.xlabel(\"\")\n",
    "plt.ylabel(\"\")\n",
    "plt.show()"
   ]
  },
  {
   "cell_type": "markdown",
   "metadata": {},
   "source": [
    "### Scatter plot: mean left versus right antenne angles using mid-length (S2D bottom)"
   ]
  },
  {
   "cell_type": "code",
   "execution_count": 13,
   "metadata": {},
   "outputs": [
    {
     "data": {
      "image/png": "[encoded data removed]",
      "text/plain": [
       "<Figure size 180x170 with 1 Axes>"
      ]
     },
     "metadata": {},
     "output_type": "display_data"
    }
   ],
   "source": [
    "tmp_bin_size = 120\n",
    "binned_df = pd.read_csv(list((data_root).glob(f\"{experiment_run_date}-mid_antenna_len-{tmp_bin_size}-binned.csv\"))[0])\n",
    "binned_df = binned_df.sort_values(by=\"remapped_bin_angle_to_dancer_deg\")\n",
    "\n",
    "plt.figure(figsize=(1.8, 1.7))\n",
    "norm=plt.Normalize(-180,180)\n",
    "plt.scatter(binned_df[\"l_antenna_mean_deg\"], binned_df[\"r_antenna_mean_deg\"], s=5, c=binned_df[\"bin_angle_to_dancer_deg\"], cmap=cmap, norm=plt.Normalize(-180,180))\n",
    "plt.ylim(None, -15)\n",
    "plt.xlim(15)\n",
    "plt.xticks([20, 90])\n",
    "plt.yticks([-20, -90])\n",
    "ax = plt.gca()\n",
    "ax.set_aspect(\"equal\")\n",
    "ax.invert_yaxis()\n",
    "ax.set_yticklabels([\"\", \"\"])\n",
    "ax.set_xticklabels([\"\", \"\"])\n",
    "ax.spines[['top', 'right']].set_visible(False)\n",
    "plt.xlabel(\"\")\n",
    "plt.ylabel(\"\")\n",
    "plt.show()"
   ]
  },
  {
   "cell_type": "markdown",
   "metadata": {},
   "source": [
    "### Colourmap"
   ]
  },
  {
   "cell_type": "code",
   "execution_count": 14,
   "metadata": {},
   "outputs": [
    {
     "data": {
      "image/png": "[encoded data removed]",
      "text/plain": [
       "<Figure size 128x96 with 1 Axes>"
      ]
     },
     "metadata": {},
     "output_type": "display_data"
    }
   ],
   "source": [
    "azimuths = np.arange(0, 361, 1)\n",
    "zeniths = np.arange(40, 70, 1)\n",
    "values = azimuths * np.ones((30, 361))\n",
    "fig, ax = plt.subplots(subplot_kw=dict(projection='polar'), dpi=20)\n",
    "plt.grid(False)\n",
    "ax.pcolormesh(azimuths*np.pi/180.0, zeniths, values, cmap=cmap)\n",
    "ax.set_theta_zero_location(\"S\")\n",
    "ax.set_yticks([])\n",
    "ax.set_xticks([])\n",
    "plt.axis(\"off\")\n",
    "plt.show()"
   ]
  },
  {
   "cell_type": "markdown",
   "metadata": {},
   "source": [
    "### Polarplot: sample left and right antenna angle"
   ]
  },
  {
   "cell_type": "code",
   "execution_count": 15,
   "metadata": {},
   "outputs": [
    {
     "data": {
      "image/png": "[encoded data removed]",
      "text/plain": [
       "<Figure size 170x170 with 1 Axes>"
      ]
     },
     "metadata": {},
     "output_type": "display_data"
    }
   ],
   "source": [
    "example_data = {\n",
    "  \"angle_to_dancer\": np.radians([57, 121, 180, -150, -103]),\n",
    "  \"left_antenna\": [80, 47, 40, 39, 48],\n",
    "  \"right_antenna\": np.abs([-35, -37, np.nan, -34, -55])\n",
    "}\n",
    "\n",
    "plt.figure(figsize=(1.7, 1.7))\n",
    "ax = plt.subplot(projection='polar')\n",
    "plt.scatter(example_data[\"angle_to_dancer\"], example_data[\"left_antenna\"], s=2, c=\"#33813E\")\n",
    "plt.scatter(example_data[\"angle_to_dancer\"], example_data[\"right_antenna\"], s=2, c=\"#FB00FF\")\n",
    "\n",
    "ax.set_ylim([0, 90])\n",
    "ax.set_yticks([0, 45, 90])\n",
    "ax.set_yticklabels([\"\", \"\", \"\"])\n",
    "ax.set_theta_zero_location(\"N\")\n",
    "ax.set_thetamin(-180)\n",
    "ax.set_thetamax(180)\n",
    "plt.thetagrids([0, 90, 180, -90])\n",
    "ax.set_xticklabels([\"\", \"\", \"\", \"\"])\n",
    "ax.spines['polar'].set_visible(False)\n",
    "ax.grid(False)\n",
    "\n",
    "lw = 0.7\n",
    "circle = plt.Circle((0.0, 0.0), 90, transform=ax.transData._b, fill=False, linewidth=1.5, zorder=2)\n",
    "ax.add_artist(circle)\n",
    "circle = plt.Circle((0.0, 0.0), 45, transform=ax.transData._b, fill=False, linewidth=lw, color=\"#BCBCBC\", zorder=-1)\n",
    "ax.add_artist(circle)\n",
    "\n",
    "ax.axvline(0, 0, 180, color=\"#BCBCBC\", linewidth=lw, zorder=-1, alpha=0.5)\n",
    "ax.axvline(np.radians(180), 0, 180, color=\"#BCBCBC\", linewidth=lw, zorder=-1, alpha=0.5)\n",
    "ax.axvline(np.radians(90), 0, 180, color=\"#BCBCBC\", linewidth=lw, zorder=-1, alpha=0.5)\n",
    "ax.axvline(np.radians(-90), 0, 180, color=\"#BCBCBC\", linewidth=lw, zorder=-1, alpha=0.5)\n",
    "plt.show()"
   ]
  },
  {
   "cell_type": "markdown",
   "metadata": {},
   "source": [
    "# Vector assimilation: angular error (Figs. 4, S4)"
   ]
  },
  {
   "cell_type": "markdown",
   "metadata": {},
   "source": [
    "### Boxplot: antennal method (4A)"
   ]
  },
  {
   "cell_type": "code",
   "execution_count": 16,
   "metadata": {},
   "outputs": [
    {
     "name": "stdout",
     "output_type": "stream",
     "text": [
      "Dropped 0 outliers [] for method left_only\n",
      "Dropped 1 outliers ['n47'] for method right_only\n",
      "Dropped 0 outliers [] for method midpoint\n",
      "Dropped 0 outliers [] for method no_antennae\n",
      "Dropped 0 outliers [] for method single_antennae\n"
     ]
    }
   ],
   "source": [
    "def remove_outliers(df, show_hist=False):\n",
    "    for i in df[\"method\"].unique():\n",
    "        method_df = df[df[\"method\"] == i]\n",
    "        angles_deg = np.degrees(method_df[\"mean_rad\"])\n",
    "        zscores = np.abs(scipy.stats.zscore(np.abs(angles_deg)))\n",
    "        outliers = np.where(np.abs(zscores) > 2.9)[0]  # 3-sigma rule\n",
    "        print(\"Dropped\", len(outliers), \"outliers\",  method_df.iloc[outliers][\"bee_id\"].values,\"for method\", i)\n",
    "        df = df.drop(df[(df[\"method\"] == i) & df[\"bee_id\"].isin(method_df.iloc[outliers][\"bee_id\"].values)].index)\n",
    "        zscores = scipy.stats.zscore(df[df[\"method\"] == i][\"abs_mean_deg\"])\n",
    "        if show_hist:\n",
    "            plt.hist(np.abs(angles_deg), alpha=0.6)\n",
    "            plt.show()\n",
    "    return df\n",
    "    \n",
    "methods = [\n",
    "    \"left_only\",\n",
    "    \"right_only\",\n",
    "    \"midpoint\",\n",
    "    \"no_antennae\",\n",
    "    \"single_antennae\",\n",
    "]\n",
    "dfs = {}\n",
    "for method in methods:\n",
    "    method_csv = list((data_root).glob(f\"{experiment_run_date}*{method}*{max_antenna_angle}MaxAntennaPos*-{nbins}bins-reduced_errors.csv\"))[0]\n",
    "    dfs[method] = pd.read_csv(method_csv)\n",
    "df = pd.concat((dfs), axis=0).reset_index().drop(columns=[\"level_1\"]).rename(columns={\"level_0\": \"method\"})\n",
    "df[\"abs_mean_deg\"] = np.degrees(np.abs(df[\"mean_rad\"]))\n",
    "df = remove_outliers(df)"
   ]
  },
  {
   "cell_type": "code",
   "execution_count": 17,
   "metadata": {},
   "outputs": [
    {
     "name": "stdout",
     "output_type": "stream",
     "text": [
      "Index(['single_antennae', 'midpoint', 'left_only', 'right_only',\n",
      "       'no_antennae'],\n",
      "      dtype='object', name='method')\n"
     ]
    },
    {
     "data": {
      "image/png": "[encoded data removed]",
      "text/plain": [
       "<Figure size 250x170 with 1 Axes>"
      ]
     },
     "metadata": {},
     "output_type": "display_data"
    }
   ],
   "source": [
    "my_order = df.groupby(by=[\"method\"])[\"abs_mean_deg\"].mean().sort_values().index\n",
    "print(my_order)\n",
    "plt.figure(figsize=(2.5, 1.7))\n",
    "sns.boxplot(data=df, x=\"method\", y=\"abs_mean_deg\", notch=True, width=0.65, showfliers=True, whis=1.5, order=my_order, **BXPLT_PROPS)\n",
    "ax = plt.gca()\n",
    "ax.set_yticks([0, 90, 180])\n",
    "ax.set_yticklabels([\"\", \"\", \"\"])\n",
    "ax.set_ylabel(\"\")\n",
    "ax.set_xticks([0,1,2,3,4])\n",
    "ax.set_xticklabels([\"\", \"\", \"\", \"\", \"\"])\n",
    "ax.set_xlabel(\"\")\n",
    "ax.spines[['top', 'right']].set_visible(False)"
   ]
  },
  {
   "cell_type": "code",
   "execution_count": 18,
   "metadata": {},
   "outputs": [
    {
     "name": "stdout",
     "output_type": "stream",
     "text": [
      "FriedmanchisquareResult(statistic=32.67586206896544, pvalue=1.3916306237689858e-06)\n",
      "                 left_only  right_only  midpoint  no_antennae  single_antennae\n",
      "left_only         1.000000    1.000000  1.000000     0.002116         1.000000\n",
      "right_only        1.000000    1.000000  0.335637     0.002779         0.249995\n",
      "midpoint          1.000000    0.335637  1.000000     0.000011         1.000000\n",
      "no_antennae       0.002116    0.002779  0.000011     1.000000         0.000011\n",
      "single_antennae   1.000000    0.249995  1.000000     0.000011         1.000000\n"
     ]
    }
   ],
   "source": [
    "# Friedman's test\n",
    "df = df.query(\"bee_id != 'n47'\")\n",
    "m1 = df[df[\"method\"] == \"midpoint\"][\"abs_mean_deg\"]\n",
    "m2 = df[df[\"method\"] == \"right_only\"][\"abs_mean_deg\"]\n",
    "m3 = df[df[\"method\"] == \"left_only\"][\"abs_mean_deg\"]\n",
    "m4 = df[df[\"method\"] == \"single_antennae\"][\"abs_mean_deg\"]\n",
    "m5 = df[df[\"method\"] == \"no_antennae\"][\"abs_mean_deg\"]\n",
    "\n",
    "res = scipy.stats.friedmanchisquare(m1, m2, m3, m4, m5)\n",
    "print(res)\n",
    "\n",
    "# Posthocs\n",
    "res = scikit_posthocs.posthoc_wilcoxon(df, val_col=\"abs_mean_deg\", group_col=\"method\", p_adjust=\"bonferroni\")\n",
    "print(res)"
   ]
  },
  {
   "cell_type": "markdown",
   "metadata": {},
   "source": [
    "### Ribbon plot: error versus angle to dancer (4B)"
   ]
  },
  {
   "cell_type": "code",
   "execution_count": 19,
   "metadata": {},
   "outputs": [
    {
     "data": {
      "image/png": "[encoded data removed]",
      "text/plain": [
       "<Figure size 200x170 with 1 Axes>"
      ]
     },
     "metadata": {},
     "output_type": "display_data"
    }
   ],
   "source": [
    "method = \"midpoint\"\n",
    "tmp_bin_size = 24\n",
    "binned_df = pd.read_csv(list((data_root).glob(f\"{experiment_run_date}*{method}*{max_antenna_angle}MaxAntennaPos*-{tmp_bin_size}bins-binned_errors.csv\"))[0])\n",
    "\n",
    "plt.figure(figsize=(2, 1.7))\n",
    "ribbon_low = np.abs(binned_df[\"mean_rad\"]) - binned_df[\"std_rad\"]\n",
    "ribbon_high = np.abs(binned_df[\"mean_rad\"]) + binned_df[\"std_rad\"]\n",
    "plt.fill_between(binned_df[\"angle_to_dancer_rad\"], ribbon_low, ribbon_high, color=\"lightgray\", alpha=0.7) \n",
    "plt.scatter(binned_df[\"angle_to_dancer_rad\"], np.abs(binned_df[\"mean_rad\"]), s=7, c=\"black\")\n",
    "ax = plt.gca()\n",
    "ax.set_yticks([0, np.pi/2, np.pi])\n",
    "ax.set_yticklabels([\"\", \"\", \"\"])\n",
    "ax.set_ylabel(\"\")\n",
    "ax.set_ylim(np.radians(-6))\n",
    "ax.set_xticks([-np.pi, 0, np.pi])\n",
    "ax.set_xticklabels([\"\", \"\", \"\"])\n",
    "ax.set_xlabel(\"\")\n",
    "ax.spines[['top', 'right']].set_visible(False)"
   ]
  },
  {
   "cell_type": "markdown",
   "metadata": {},
   "source": [
    "### Boxplot: error versus angle to dancer by stability of nestmate (4C)"
   ]
  },
  {
   "cell_type": "code",
   "execution_count": 20,
   "metadata": {},
   "outputs": [
    {
     "name": "stdout",
     "output_type": "stream",
     "text": [
      "category\n",
      "Changing    37\n",
      "Stable      22\n",
      "Name: count, dtype: int64\n"
     ]
    },
    {
     "data": {
      "image/png": "[encoded data removed]",
      "text/plain": [
       "<Figure size 200x170 with 1 Axes>"
      ]
     },
     "metadata": {},
     "output_type": "display_data"
    }
   ],
   "source": [
    "straightness_df = pd.read_csv(data_root / \"orientation_straightness.csv\")\n",
    "straightness_df[\"category\"] = straightness_df.apply(lambda bee: \"Changing\" if bee[\"straightness\"] < 0.5 else \"Stable\", axis=1)\n",
    "print(straightness_df[\"category\"].value_counts())\n",
    "\n",
    "method = \"midpoint\"\n",
    "reduced_df = pd.read_csv(list((data_root).glob(f\"{experiment_run_date}*{method}*-{nbins}bins-reduced_errors.csv\"))[0])\n",
    "reduced_df = pd.merge(left=reduced_df, right=straightness_df, on=\"bee_id\", how=\"inner\")\n",
    "reduced_df[\"method\"] = method\n",
    "\n",
    "method = \"no_antennae\"\n",
    "control_df = pd.read_csv(list((data_root).glob(f\"{experiment_run_date}*{method}*-{nbins}bins-reduced_errors.csv\"))[0])\n",
    "control_df = pd.merge(left=control_df, right=straightness_df, on=\"bee_id\", how=\"inner\")\n",
    "control_df[\"method\"] = method\n",
    "\n",
    "stability_df = pd.concat((reduced_df, control_df), axis=0)\n",
    "stability_df[\"abs_mean_deg\"] = np.degrees(np.abs(stability_df[\"mean_rad\"]))\n",
    "stability_df[\"group_col\"] = stability_df.apply(lambda row: f\"{row['method']}_{row['category']}\", axis=1)\n",
    "\n",
    "plt.figure(figsize=(2, 1.7))\n",
    "sns.boxplot(data=stability_df, x=\"method\", y=\"abs_mean_deg\", hue=\"category\", notch=True, width=0.65, showfliers=False, whis=1.5, palette=[\"white\", \"#E0E0E0\"], **BXPLT_PROPS)\n",
    "ax = plt.gca()\n",
    "plt.ylim(-5)\n",
    "ax.set_yticks([0, 90, 180])\n",
    "ax.set_yticklabels([\"\", \"\", \"\"])\n",
    "ax.set_ylabel(\"\")\n",
    "ax.spines[['top', 'right']].set_visible(False)\n",
    "ax.set_xlabel(\"\")\n",
    "ax.set_xticks([0,1])\n",
    "ax.set_xticklabels([\"\", \"\"])\n",
    "plt.legend([],[], frameon=False)\n",
    "plt.show()"
   ]
  },
  {
   "cell_type": "code",
   "execution_count": 21,
   "metadata": {},
   "outputs": [
    {
     "name": "stdout",
     "output_type": "stream",
     "text": [
      "WilcoxonResult(statistic=66.0, pvalue=2.736429451033473e-06) \n",
      "\n",
      "WilcoxonResult(statistic=45.0, pvalue=0.006649494171142578)\n"
     ]
    }
   ],
   "source": [
    "# Comparing the same bees\n",
    "# Comparison 1: changing when comparing midpt vs control\n",
    "df_1a = stability_df[stability_df[\"group_col\"] == \"midpoint_Changing\"][\"abs_mean_deg\"].values\n",
    "df_1b = stability_df[stability_df[\"group_col\"] == \"no_antennae_Changing\"][\"abs_mean_deg\"].values\n",
    "res = scipy.stats.wilcoxon(df_1a, df_1b)\n",
    "print(res, \"\\n\")\n",
    "\n",
    "# Comparison 2: stable when comparing midpt vs control\n",
    "df_1a = stability_df[stability_df[\"group_col\"] == \"midpoint_Stable\"][\"abs_mean_deg\"].values\n",
    "df_1b = stability_df[stability_df[\"group_col\"] == \"no_antennae_Stable\"][\"abs_mean_deg\"].values\n",
    "res = scipy.stats.wilcoxon(df_1a, df_1b)\n",
    "print(res)"
   ]
  },
  {
   "cell_type": "code",
   "execution_count": 22,
   "metadata": {},
   "outputs": [
    {
     "name": "stdout",
     "output_type": "stream",
     "text": [
      "KruskalResult(statistic=0.019901719901724846, pvalue=0.8878119131967689)\n",
      "Dunn's test post hoc:\n",
      "                    midpoint_Changing  midpoint_Stable\n",
      "midpoint_Changing           1.000000         0.887812\n",
      "midpoint_Stable             0.887812         1.000000 \n",
      "\n",
      "KruskalResult(statistic=0.49754299754300746, pvalue=0.4805817017029522)\n",
      "Dunn's test post hoc:\n",
      "                       no_antennae_Changing  no_antennae_Stable\n",
      "no_antennae_Changing              1.000000            0.480582\n",
      "no_antennae_Stable                0.480582            1.000000 \n",
      "\n",
      "KruskalResult(statistic=3.4793611793611774, pvalue=0.06213872342827779)\n",
      "Dunn's test post hoc:\n",
      "                     midpoint_Changing  no_antennae_Stable\n",
      "midpoint_Changing            1.000000            0.062139\n",
      "no_antennae_Stable           0.062139            1.000000 \n",
      "\n",
      "KruskalResult(statistic=5.602211302211288, pvalue=0.017937822911527675)\n",
      "Dunn's test post hoc:\n",
      "                       midpoint_Stable  no_antennae_Changing\n",
      "midpoint_Stable              1.000000              0.017938\n",
      "no_antennae_Changing         0.017938              1.000000 \n",
      "\n"
     ]
    }
   ],
   "source": [
    "compare_df = stability_df[stability_df[\"group_col\"].isin([\"midpoint_Changing\", \"midpoint_Stable\"])]\n",
    "res = scipy.stats.kruskal(*compare_df.groupby(\"group_col\")[\"abs_mean_deg\"].apply(list).values)\n",
    "print(res)\n",
    "res = scikit_posthocs.posthoc_dunn(compare_df, val_col=\"abs_mean_deg\", group_col=\"group_col\")\n",
    "print(\"Dunn's test post hoc:\\n\", res, \"\\n\")\n",
    "\n",
    "compare_df = stability_df[stability_df[\"group_col\"].isin([\"no_antennae_Changing\", \"no_antennae_Stable\"])]\n",
    "res = scipy.stats.kruskal(*compare_df.groupby(\"group_col\")[\"abs_mean_deg\"].apply(list).values)\n",
    "print(res)\n",
    "res = scikit_posthocs.posthoc_dunn(compare_df, val_col=\"abs_mean_deg\", group_col=\"group_col\")\n",
    "print(\"Dunn's test post hoc:\\n\", res, \"\\n\")\n",
    "\n",
    "compare_df = stability_df[stability_df[\"group_col\"].isin([\"midpoint_Changing\", \"no_antennae_Stable\"])]\n",
    "res = scipy.stats.kruskal(*compare_df.groupby(\"group_col\")[\"abs_mean_deg\"].apply(list).values)\n",
    "print(res)\n",
    "res = scikit_posthocs.posthoc_dunn(compare_df, val_col=\"abs_mean_deg\", group_col=\"group_col\")\n",
    "print(\"Dunn's test post hoc:\\n\", res, \"\\n\")\n",
    "\n",
    "compare_df = stability_df[stability_df[\"group_col\"].isin([\"midpoint_Stable\", \"no_antennae_Changing\"])]\n",
    "res = scipy.stats.kruskal(*compare_df.groupby(\"group_col\")[\"abs_mean_deg\"].apply(list).values)\n",
    "print(res)\n",
    "res = scikit_posthocs.posthoc_dunn(compare_df, val_col=\"abs_mean_deg\", group_col=\"group_col\")\n",
    "print(\"Dunn's test post hoc:\\n\", res, \"\\n\")"
   ]
  },
  {
   "cell_type": "markdown",
   "metadata": {},
   "source": [
    "### Polarplot: error over time (4D, S4D)"
   ]
  },
  {
   "cell_type": "code",
   "execution_count": 23,
   "metadata": {},
   "outputs": [
    {
     "data": {
      "image/png": "[encoded data removed]",
      "text/plain": [
       "<Figure size 500x300 with 3 Axes>"
      ]
     },
     "metadata": {},
     "output_type": "display_data"
    }
   ],
   "source": [
    "method = \"midpoint\"\n",
    "method_csv = list((data_root).glob(f\"{experiment_run_date}*{method}*{max_antenna_angle}MaxAntennaPos*-{nbins}bins-errors.csv\"))[0]\n",
    "df90 = pd.read_csv(method_csv)\n",
    "\n",
    "fig, ax = plt.subplots(1, 3, subplot_kw=dict(projection=\"polar\"), dpi=100, figsize=(5, 3))\n",
    "ax = ax.reshape(-1)\n",
    "max_frame = 0\n",
    "for bee_id in df90[\"bee_id\"].unique():\n",
    "    bee_midpt = df90[df90[\"bee_id\"] == bee_id].sort_values(\"frame\")\n",
    "    max_frame = max(max_frame, bee_midpt[\"frame\"].max())\n",
    "    final_error = bee_midpt[\"vector_error_rad\"].iloc[-1]\n",
    "    final_frame = bee_midpt[\"frame\"].iloc[-1]\n",
    "    color = cmap(np.random.uniform(0, 1))\n",
    "    ax[0].plot([0.0, final_error], [0, final_frame], color=color, linewidth=1.5)  # Error of final vector\n",
    "    ax[1].plot(bee_midpt[\"vector_error_rad\"], bee_midpt[\"frame\"], color=color, linewidth=1.5)  # Error on each step\n",
    "    min_error_idx = (np.abs(bee_midpt[\"vector_error_deg\"] - 0.0)).argmin()\n",
    "    min_error = bee_midpt[\"vector_error_rad\"].iloc[min_error_idx]\n",
    "    ax[2].plot([0.0, min_error], [0.0, min_error_idx+1], linewidth=2.0, color=color)  # Error of best vector\n",
    "\n",
    "max_frame = 400  # 2 s\n",
    "ax[0].set_ylim(0, max_frame)\n",
    "ax[0].set_yticklabels(\"\")\n",
    "ax[0].set_yticks([])\n",
    "ax[0].set_yticklabels([])\n",
    "lw = 0.7\n",
    "circle = plt.Circle((0.0, 0.0), max_frame, transform=ax[0].transData._b, fill=False, linewidth=1.5, zorder=2)\n",
    "ax[0].add_artist(circle)\n",
    "ax[0].axvline(0, 0, 180, color=\"#BCBCBC\", linewidth=lw, zorder=-1, alpha=0.5)\n",
    "ax[0].axvline(np.radians(180), 0, 180, color=\"#BCBCBC\", linewidth=lw, zorder=-1, alpha=0.5)\n",
    "ax[0].axvline(np.radians(90), 0, 180, color=\"#BCBCBC\", linewidth=lw, zorder=-1, alpha=0.5)\n",
    "ax[0].axvline(np.radians(-90), 0, 180, color=\"#BCBCBC\", linewidth=lw, zorder=-1, alpha=0.5)\n",
    "ax[0].set_theta_zero_location(\"N\")\n",
    "ax[0].set_thetamin(-180)\n",
    "ax[0].set_thetamax(180)\n",
    "ax[0].set_thetagrids([0, 90, 180, -90], fontsize=11)\n",
    "ax[0].set_xticklabels([\"\", \"\", \"\", \"\"])\n",
    "ax[0].spines['polar'].set_visible(False)\n",
    "\n",
    "ax[1].set_ylim(0, max_frame)\n",
    "ax[1].set_yticklabels(\"\")\n",
    "ax[1].set_yticks([])\n",
    "ax[1].set_yticklabels([])\n",
    "circle = plt.Circle((0.0, 0.0), max_frame, transform=ax[1].transData._b, fill=False, linewidth=1.5, zorder=2)\n",
    "ax[1].add_artist(circle)\n",
    "ax[1].axvline(0, 0, 180, color=\"#BCBCBC\", linewidth=lw, zorder=-1, alpha=0.5)\n",
    "ax[1].axvline(np.radians(180), 0, 180, color=\"#BCBCBC\", linewidth=lw, zorder=-1, alpha=0.5)\n",
    "ax[1].axvline(np.radians(90), 0, 180, color=\"#BCBCBC\", linewidth=lw, zorder=-1, alpha=0.5)\n",
    "ax[1].axvline(np.radians(-90), 0, 180, color=\"#BCBCBC\", linewidth=lw, zorder=-1, alpha=0.5)\n",
    "ax[1].set_theta_zero_location(\"N\")\n",
    "ax[1].set_thetamin(-180)\n",
    "ax[1].set_thetamax(180)\n",
    "ax[1].set_thetagrids([0, 90, 180, -90], fontsize=11)\n",
    "ax[1].set_xticklabels([\"\", \"\", \"\", \"\"])\n",
    "ax[1].spines['polar'].set_visible(False)\n",
    "\n",
    "ax[2].set_ylim(0, max_frame)\n",
    "ax[2].set_yticklabels(\"\")\n",
    "ax[2].set_yticks([])\n",
    "ax[2].set_yticklabels([])\n",
    "circle = plt.Circle((0.0, 0.0), max_frame, transform=ax[2].transData._b, fill=False, linewidth=1.5, zorder=2)\n",
    "ax[2].add_artist(circle)\n",
    "ax[2].axvline(0, 0, 180, color=\"#BCBCBC\", linewidth=lw, zorder=-1, alpha=0.5)\n",
    "ax[2].axvline(np.radians(180), 0, 180, color=\"#BCBCBC\", linewidth=lw, zorder=-1, alpha=0.5)\n",
    "ax[2].axvline(np.radians(90), 0, 180, color=\"#BCBCBC\", linewidth=lw, zorder=-1, alpha=0.5)\n",
    "ax[2].axvline(np.radians(-90), 0, 180, color=\"#BCBCBC\", linewidth=lw, zorder=-1, alpha=0.5)\n",
    "ax[2].set_theta_zero_location(\"N\")\n",
    "ax[2].set_thetamin(-180)\n",
    "ax[2].set_thetamax(180)\n",
    "ax[2].set_thetagrids([0, 90, 180, -90], fontsize=11)\n",
    "ax[2].set_xticklabels([\"\", \"\", \"\", \"\"])\n",
    "ax[2].spines['polar'].set_visible(False)"
   ]
  },
  {
   "cell_type": "markdown",
   "metadata": {},
   "source": [
    "### Ribbon plot: error versus nestmate's gravity angle (S4A)"
   ]
  },
  {
   "cell_type": "code",
   "execution_count": 24,
   "metadata": {},
   "outputs": [
    {
     "name": "stdout",
     "output_type": "stream",
     "text": [
      "bin_idx_of_angle_to_gravity_rad\n",
      "0    16\n",
      "1    12\n",
      "2    15\n",
      "3    16\n",
      "dtype: int64\n"
     ]
    }
   ],
   "source": [
    "method = \"midpoint\"\n",
    "tmp_bin_size = 4\n",
    "features_df = pd.read_csv(data_root / f\"{experiment_run_date}-features.csv\")\n",
    "features_df = features_df[[\"bee_id\", \"frame\", \"recruit_angle_to_gravity_rad\"]]\n",
    "errors_df = pd.read_csv(list((data_root).glob(f\"{experiment_run_date}*{method}*{max_antenna_angle}MaxAntennaPos*-{tmp_bin_size}bins-errors.csv\"))[0])\n",
    "errors_df = errors_df[[\"bee_id\", \"frame\", \"angle_to_dancer_deg\", \"vector_error_deg\"]]\n",
    "\n",
    "bee_to_gravity_angle = {}\n",
    "for bee_id, bee_df in errors_df.groupby(\"bee_id\"):\n",
    "    bee_features = features_df[features_df[\"bee_id\"] == bee_id]\n",
    "    mean_angle_to_gravity = scipy.stats.circmean(bee_features[\"recruit_angle_to_gravity_rad\"], low=-np.pi, high=np.pi)\n",
    "    bee_to_gravity_angle[bee_id] = mean_angle_to_gravity\n",
    "bee_to_gravity_angle = pd.Series(bee_to_gravity_angle, name=\"recruit_angle_to_gravity_rad\").reset_index().rename(columns={\"index\": \"bee_id\"})\n",
    "errors_gravity_df = pd.merge(left=errors_df, right=bee_to_gravity_angle, on=[\"bee_id\"], how=\"inner\")\n",
    "\n",
    "def reduce(bee_df: pd.DataFrame):\n",
    "    \"\"\"Reduce data: mean and std of vector error, mean angle to dancer.\"\"\"\n",
    "    vector_error_rad = np.abs(np.radians(bee_df[\"vector_error_deg\"]))\n",
    "    mean_vector_error_rad = scipy.stats.circmean(\n",
    "        vector_error_rad, high=np.pi, low=0\n",
    "    )\n",
    "    mean_vector_error_std = scipy.stats.circstd(\n",
    "        vector_error_rad, high=np.pi, low=0\n",
    "    ) \n",
    "    mean_angle_to_gravity = scipy.stats.circmean(\n",
    "        bee_df[\"recruit_angle_to_gravity_rad\"], high=np.pi, low=-np.pi\n",
    "    ) \n",
    "    return mean_vector_error_rad, mean_vector_error_std, mean_angle_to_gravity\n",
    "\n",
    "bins = np.array([0, np.radians(45), np.radians(135), np.radians(225), np.radians(315), np.radians(360)])\n",
    "def circular_bin(x):\n",
    "    \"\"\"Bin angles into circular bins.\"\"\"\n",
    "    assigned_bins = np.digitize(x, bins) - 1\n",
    "    assigned_bins[assigned_bins == 4] = 0  # Merge first and last bin\n",
    "    return assigned_bins\n",
    "\n",
    "errors_gravity_df[\"remapped_gravity_rad\"] = errors_gravity_df[\"recruit_angle_to_gravity_rad\"].apply(lambda x: (x + 2*np.pi) %  2*np.pi)\n",
    "errors_gravity_df[\"bin_idx_of_angle_to_gravity_rad\"] = circular_bin(errors_gravity_df[\"remapped_gravity_rad\"])\n",
    "errors_gravity_df[\"abs_vector_error_deg\"] = np.abs(errors_gravity_df[\"vector_error_deg\"])\n",
    "bee_errors = (\n",
    "    errors_gravity_df.groupby(\"bee_id\")\n",
    "    .apply(lambda group: reduce(group))\n",
    "    .reset_index()\n",
    ")\n",
    "bee_errors = pd.concat([bee_errors.drop([0], axis=1), bee_errors[0].apply(pd.Series)], axis=1)\n",
    "bee_errors = bee_errors.rename(columns={0: \"vector_error_deg\", 1: \"std_rad\", 2: \"recruit_angle_to_gravity_rad\"})\n",
    "errors_gravity_df = errors_gravity_df[[\"bee_id\", \"bin_idx_of_angle_to_gravity_rad\"]].drop_duplicates()\n",
    "bee_errors = pd.merge(left=bee_errors, right=errors_gravity_df, on=[\"bee_id\"], how=\"inner\")\n",
    "mean = np.degrees(bee_errors.groupby(\"bin_idx_of_angle_to_gravity_rad\").apply(lambda group: reduce(group)[0]))\n",
    "std = np.degrees(bee_errors.groupby(\"bin_idx_of_angle_to_gravity_rad\").apply(lambda group: reduce(group)[1]))\n",
    "print(bee_errors.groupby(\"bin_idx_of_angle_to_gravity_rad\").size())"
   ]
  },
  {
   "cell_type": "code",
   "execution_count": 25,
   "metadata": {},
   "outputs": [
    {
     "data": {
      "image/png": "[encoded data removed]",
      "text/plain": [
       "<Figure size 180x170 with 1 Axes>"
      ]
     },
     "metadata": {},
     "output_type": "display_data"
    }
   ],
   "source": [
    "plt.figure(figsize=(1.8, 1.7))\n",
    "ribbon_low = np.abs(mean) - std\n",
    "ribbon_high = np.abs(mean) + std\n",
    "bins_adj = np.array([0.0, np.radians(90), np.radians(180), np.radians(270)])\n",
    "\n",
    "offset = np.radians(45)\n",
    "colours = [\"#FFD737\", \"#FFAA14\", \"#E260E7\", \"#2C24E9\"]\n",
    "for i, bin_pos in enumerate(bins_adj):\n",
    "    plt.fill_between(x=[bin_pos-offset,bin_pos+offset], y1=ribbon_low[i], y2=ribbon_high[i], color=colours[i], alpha=0.3)\n",
    "\n",
    "plt.scatter(bins_adj, np.abs(mean), s=7, c=\"black\")\n",
    "ax = plt.gca()\n",
    "ax.set_yticks([0, np.pi/2, np.pi])\n",
    "ax.set_yticklabels([\"\", \"\", \"\"])\n",
    "ax.set_ylabel(\"\")\n",
    "ax.set_ylim(np.radians(-6))\n",
    "ax.set_xticks(bins_adj)\n",
    "ax.set_xticklabels([\"\", \"\", \"\", \"\"])\n",
    "ax.set_xlabel(\"\")\n",
    "ax.spines[['top', 'right']].set_visible(False)"
   ]
  },
  {
   "cell_type": "markdown",
   "metadata": {},
   "source": [
    "### Scatterplot: error versus time spent following nestmate (S4B)"
   ]
  },
  {
   "cell_type": "code",
   "execution_count": 26,
   "metadata": {},
   "outputs": [
    {
     "name": "stdout",
     "output_type": "stream",
     "text": [
      "59 phases\n",
      "Pearson's: 0.032561065675311286 p-value: 0.8065959056246168\n"
     ]
    },
    {
     "data": {
      "image/png": "[encoded data removed]",
      "text/plain": [
       "<Figure size 200x170 with 1 Axes>"
      ]
     },
     "metadata": {},
     "output_type": "display_data"
    }
   ],
   "source": [
    "method = \"midpoint\"\n",
    "reduced_df = pd.read_csv(list((data_root).glob(f\"{experiment_run_date}*{method}*-{nbins}bins-reduced_errors.csv\"))[0])\n",
    "print(reduced_df[\"bee_id\"].unique().shape[0], \"phases\")\n",
    "\n",
    "y = np.degrees(np.abs(reduced_df[\"mean_rad\"]))\n",
    "x = reduced_df[\"num_frames_following\"]\n",
    "r, p = scipy.stats.pearsonr(x, y)\n",
    "print(\"Pearson's:\", r, \"p-value:\", p)\n",
    "\n",
    "plt.figure(figsize=(2, 1.7))\n",
    "plt.scatter(x, y, s=7, color=\"black\")\n",
    "\n",
    "fit_params = np.polyfit(x, y, 1)\n",
    "x = np.unique(x)\n",
    "y_fit = np.poly1d(fit_params)(x)\n",
    "plt.plot(x, y_fit, color=\"gray\")\n",
    "\n",
    "ax = plt.gca()\n",
    "ax.set_yticks([0, 90, 180])\n",
    "ax.set_yticklabels([\"\", \"\", \"\"])\n",
    "ax.set_ylabel(\"\")\n",
    "ax.set_xticks([0, 500])\n",
    "ax.set_xticklabels([\"\", \"\"])\n",
    "ax.set_xlabel(\"\")\n",
    "ax.spines[['top', 'right']].set_visible(False)"
   ]
  },
  {
   "cell_type": "markdown",
   "metadata": {},
   "source": [
    "### Histogram: angular error vs max antenna positions (S4C right)"
   ]
  },
  {
   "cell_type": "code",
   "execution_count": 27,
   "metadata": {},
   "outputs": [
    {
     "data": {
      "image/png": "[encoded data removed]",
      "text/plain": [
       "<Figure size 344.5x265 with 1 Axes>"
      ]
     },
     "metadata": {},
     "output_type": "display_data"
    }
   ],
   "source": [
    "methods = [\n",
    "   \"midpoint\",\n",
    "   \"no_antennae\",\n",
    "]\n",
    "dfs = {}\n",
    "for method in methods:\n",
    "    method_csv = list((data_root).glob(f\"{experiment_run_date}*{method}*{max_antenna_angle}MaxAntennaPos*-{nbins}bins-errors.csv\"))[0]\n",
    "    dfs[method] = pd.read_csv(method_csv)\n",
    "df = pd.concat((dfs), axis=0).reset_index().drop(columns=[\"level_1\"]).rename(columns={\"level_0\": \"method\"})\n",
    "df[\"max_antenna_pos\"]  = max_antenna_angle\n",
    "\n",
    "dfs = {}\n",
    "tmp_max_antenna_pos = 60\n",
    "for method in methods:\n",
    "    method_csv = list((data_root).glob(f\"{experiment_run_date}*{method}*{tmp_max_antenna_pos}MaxAntennaPos*-{nbins}bins-errors.csv\"))[0]\n",
    "    dfs[method] = pd.read_csv(method_csv)\n",
    "df1 = pd.concat((dfs), axis=0).reset_index().drop(columns=[\"level_1\"]).rename(columns={\"level_0\": \"method\"})\n",
    "df1[\"max_antenna_pos\"]  = tmp_max_antenna_pos\n",
    "df1 = df1[df1[\"method\"] != \"no_antennae\"]\n",
    "\n",
    "df = pd.concat((df, df1), axis=0)\n",
    "df[\"category\"] = df[\"method\"] + \"_\" + df[\"max_antenna_pos\"].astype(str)\n",
    "\n",
    "subdf = df[df[\"category\"].isin([\"midpoint_90\", \"midpoint_60\", \"no_antennae_90\"])]\n",
    "pallette = {\"midpoint_90\": \"#F86BE2\", \"midpoint_60\": \"#672ad1\",\"no_antennae_90\": \"#F29F46\"}\n",
    "sns.displot(subdf, x=\"vector_error_deg\", hue=\"category\", kde=True, alpha=0.18, bins=24, ec=\"none\", height=2.65, aspect=1.3,kde_kws={\"bw_adjust\":1.8}, legend=False, palette=pallette, hue_order=[\"midpoint_60\", \"midpoint_90\",\"no_antennae_90\"])\n",
    "ax = plt.gca()\n",
    "ax.spines[['top', 'right']].set_visible(False)\n",
    "plt.xlim(-180, 180)\n",
    "ax.set_xticks([-180, 0, 180])\n",
    "ax.set_xticklabels([\"\", \"\", \"\"])\n",
    "plt.xlabel(\"\")\n",
    "plt.ylabel(\"\")\n",
    "plt.yticks([0, 1400])\n",
    "ax.set_yticklabels([\"\",\"\"])\n",
    "plt.ylim(0, 1400)\n",
    "plt.show()"
   ]
  },
  {
   "cell_type": "markdown",
   "metadata": {},
   "source": [
    "### Boxplots: angular error vs max antenna positions (S4C left)"
   ]
  },
  {
   "cell_type": "code",
   "execution_count": 28,
   "metadata": {},
   "outputs": [],
   "source": [
    "methods = [\n",
    "   \"midpoint\",\n",
    "   \"left_only\",\n",
    "   \"right_only\",\n",
    "   \"single_antennae\",\n",
    "]\n",
    "dfs = {}\n",
    "for method in methods:\n",
    "    method_csv = list((data_root).glob(f\"{experiment_run_date}*{method}*{max_antenna_angle}MaxAntennaPos*-{nbins}bins-reduced_errors.csv\"))[0]\n",
    "    dfs[method] = pd.read_csv(method_csv)\n",
    "df = pd.concat((dfs), axis=0).reset_index().drop(columns=[\"level_1\"]).rename(columns={\"level_0\": \"method\"})\n",
    "df[\"max_antenna_pos\"]  = max_antenna_angle\n",
    "\n",
    "dfs = {}\n",
    "tmp_max_antenna_pos = 60\n",
    "for method in methods:\n",
    "    method_csv = list((data_root).glob(f\"{experiment_run_date}*{method}*{tmp_max_antenna_pos}MaxAntennaPos*-{nbins}bins-reduced_errors.csv\"))[0]\n",
    "    dfs[method] = pd.read_csv(method_csv)\n",
    "df1 = pd.concat((dfs), axis=0).reset_index().drop(columns=[\"level_1\"]).rename(columns={\"level_0\": \"method\"})\n",
    "df1[\"max_antenna_pos\"]  = tmp_max_antenna_pos\n",
    "df = pd.concat((df1, df), axis=0)"
   ]
  },
  {
   "cell_type": "code",
   "execution_count": 29,
   "metadata": {},
   "outputs": [
    {
     "data": {
      "image/png": "[encoded data removed]",
      "text/plain": [
       "<Figure size 200x170 with 1 Axes>"
      ]
     },
     "metadata": {},
     "output_type": "display_data"
    }
   ],
   "source": [
    "plt.figure(figsize=(2, 1.7))\n",
    "df[\"abs_mean_deg\"] = np.abs(np.degrees(df[\"mean_rad\"]))\n",
    "df[\"abs_final_error_deg\"] = np.abs(np.degrees(df[\"final_vector_rad\"]))\n",
    "sns.boxplot(df, y=\"abs_mean_deg\", x=\"method\", hue=\"max_antenna_pos\", notch=True, width=0.65, showfliers=False, whis=1.5, palette=[\"white\", \"#E0E0E0\"], **BXPLT_PROPS)\n",
    "plt.legend([],[], frameon=False)\n",
    "ax = plt.gca()\n",
    "ax.set_yticks([0, 90, 180])\n",
    "ax.set_ylim([-5,180])\n",
    "ax.set_yticklabels([\"\", \"\", \"\"])\n",
    "ax.set_ylabel(\"\")\n",
    "ax.set_xticks([0,1,2,3])\n",
    "ax.set_xticklabels([\"\", \"\", \"\", \"\"])\n",
    "ax.set_xlabel(\"\")\n",
    "ax.spines[['top', 'right']].set_visible(False)"
   ]
  },
  {
   "cell_type": "markdown",
   "metadata": {},
   "source": [
    "# Vector assimilation: vector averaging (Figs 4, S4)"
   ]
  },
  {
   "cell_type": "markdown",
   "metadata": {},
   "source": [
    "### Boxplot: error when averaging consecutive phases (4E)"
   ]
  },
  {
   "cell_type": "code",
   "execution_count": 30,
   "metadata": {},
   "outputs": [],
   "source": [
    "method = \"midpoint\"\n",
    "errors_df = pd.read_csv(list((data_root).glob(f\"{experiment_run_date}*{method}*{max_antenna_angle}Max*-errors.csv\"))[0])\n",
    "method = \"no_antennae\"\n",
    "control_errors_df = pd.read_csv(list((data_root).glob(f\"{experiment_run_date}*{method}*{max_antenna_angle}Max*-errors.csv\"))[0])\n",
    "\n",
    "def get_bee_id_parent(bee_id):  # Create waggle run index column for each bee\n",
    "    name_components = bee_id.split(\"_\")  # i.e. \"n9\", \"n9_1\"\n",
    "    parent_name = name_components[0]\n",
    "    if len(name_components) == 1:\n",
    "        return parent_name, 0\n",
    "    return parent_name, int(name_components[1])\n",
    "\n",
    "def return_consec_waggles_df(errors_df):\n",
    "    parent_to_consensus_angles = {}\n",
    "    for name, group in errors_df.groupby(\"bee_id_parent\"):\n",
    "        combinations = group[\"waggle_run_idx\"].unique()\n",
    "        combinations = [combinations[: i + 1] for i in range(len(combinations))]\n",
    "        parent_to_consensus_angles[name] = {}\n",
    "        for comb in combinations:\n",
    "            angles_so_far = group[group[\"waggle_run_idx\"].isin(comb)][\n",
    "                \"vector_error_rad\"\n",
    "            ].values\n",
    "            mean_angle = scipy.stats.circmean(angles_so_far, high=np.pi, low=-np.pi)\n",
    "            parent_to_consensus_angles[name][f\"over_time_{comb.max()}\"] = mean_angle\n",
    "            parent_to_consensus_angles[name][f\"final_vec_{comb.max()}\"] = angles_so_far[-1]\n",
    "    consec_waggle_runs_df = (\n",
    "        pd.DataFrame(parent_to_consensus_angles)\n",
    "        .T.reset_index()\n",
    "        .rename(columns={\"index\": \"bee_id\"})\n",
    "    )\n",
    "    return consec_waggle_runs_df\n",
    "\n",
    "errors_df[\"bee_id_parent\"], errors_df[\"waggle_run_idx\"] = zip(\n",
    "    *errors_df[\"bee_id\"].apply(get_bee_id_parent)\n",
    ")\n",
    "errors_df = errors_df.sort_values(by=[\"bee_id_parent\", \"waggle_run_idx\"])\n",
    "consec_waggle_runs_df = return_consec_waggles_df(errors_df)\n",
    "consec_waggle_runs_df[\"method\"] = \"midpoint\"\n",
    "\n",
    "control_errors_df[\"bee_id_parent\"], control_errors_df[\"waggle_run_idx\"] = zip(\n",
    "    *control_errors_df[\"bee_id\"].apply(get_bee_id_parent)\n",
    ")\n",
    "control_errors_df = control_errors_df.sort_values(by=[\"bee_id_parent\", \"waggle_run_idx\"])\n",
    "control_consec_waggle_runs_df = return_consec_waggles_df(control_errors_df)\n",
    "control_consec_waggle_runs_df[\"method\"] = \"no_antennae\"\n",
    "\n",
    "consec_waggle_runs_df = pd.concat((consec_waggle_runs_df, control_consec_waggle_runs_df), axis=0)\n",
    "followed_multiple = consec_waggle_runs_df.dropna(subset=[\"over_time_1\"], axis=0)  # Bees that followed multiple phases\n",
    "followed_multiple = followed_multiple.melt(id_vars=[\"bee_id\", \"method\"])\n",
    "followed_multiple[\"condition\"] = followed_multiple[\"variable\"].apply(\n",
    "    lambda x: x.split(\"_\")[0]\n",
    ")\n",
    "followed_multiple[\"run_number\"] = followed_multiple[\"variable\"].apply(\n",
    "    lambda x: x.split(\"_\")[2]\n",
    ")\n",
    "averaged_over_all_runs = followed_multiple.groupby([\"method\", \"condition\", \"bee_id\"]).apply(lambda x: scipy.stats.circmean(x[\"value\"].dropna(), high=np.pi, low=-np.pi))\n",
    "averaged_over_all_runs = averaged_over_all_runs.reset_index().rename(columns={0: \"value\"})\n",
    "averaged_over_all_runs[\"vector_averaging\"] = \"True\"\n",
    "averaged_over_all_runs = averaged_over_all_runs.reindex(sorted(averaged_over_all_runs.columns), axis=1)\n",
    "\n",
    "# To separate out those that only followed one phase from those that followed multiple\n",
    "first_run_only = consec_waggle_runs_df[~consec_waggle_runs_df[\"bee_id\"].isin(followed_multiple[\"bee_id\"].unique())]\n",
    "first_run_only = first_run_only.melt(id_vars=[\"bee_id\", \"method\"]).dropna()\n",
    "first_run_only[\"condition\"] = first_run_only[\"variable\"].apply(\n",
    "    lambda x: x.split(\"_\")[0]\n",
    ")\n",
    "first_run_only = first_run_only.drop(columns=[\"variable\"])\n",
    "first_run_only[\"vector_averaging\"] = \"False\"\n",
    "first_run_only = first_run_only.reindex(sorted(first_run_only.columns), axis=1)\n",
    "# To add the first phase of those that followed multiple phases \n",
    "# first_run_only = consec_waggle_runs_df.dropna(axis=1).melt(id_vars=[\"bee_id\", \"method\"]).dropna()\n",
    "# first_run_only[\"condition\"] = first_run_only[\"variable\"].apply(\n",
    "#     lambda x: x.split(\"_\")[0]\n",
    "# )\n",
    "# first_run_only[\"vector_averaging\"] = \"False\"\n",
    "# first_run_only = first_run_only.drop(columns=[\"variable\"])\n",
    "# first_run_only = first_run_only.reindex(sorted(first_run_only.columns), axis=1)\n",
    "\n",
    "df = pd.concat((first_run_only, averaged_over_all_runs), axis=0)\n",
    "df = df[(df[\"condition\"] != \"over\")]\n",
    "df[\"abs_deg\"] = np.abs(np.degrees(df[\"value\"]))"
   ]
  },
  {
   "cell_type": "code",
   "execution_count": 31,
   "metadata": {},
   "outputs": [
    {
     "data": {
      "image/png": "[encoded data removed]",
      "text/plain": [
       "<Figure size 200x170 with 1 Axes>"
      ]
     },
     "metadata": {},
     "output_type": "display_data"
    }
   ],
   "source": [
    "plt.figure(figsize=(2, 1.7))\n",
    "ax = sns.boxplot(df, x=\"method\", y=\"abs_deg\", hue=\"vector_averaging\", width=0.65, showfliers=False, whis=1.5, palette=[\"white\", \"#E0E0E0\"], **BXPLT_PROPS)\n",
    "ax.set_yticks([0, 90, 180])\n",
    "ax.set_yticklabels([\"\", \"\", \"\"])\n",
    "ax.set_ylabel(\"\")\n",
    "ax.spines[['top', 'right']].set_visible(False)\n",
    "ax.set_xlabel(\"\")\n",
    "ax.set_xticks([0, 1])\n",
    "ax.set_xticklabels([\"\", \"\"])\n",
    "plt.legend([],[], frameon=False)\n",
    "plt.show()"
   ]
  },
  {
   "cell_type": "code",
   "execution_count": 32,
   "metadata": {},
   "outputs": [
    {
     "name": "stdout",
     "output_type": "stream",
     "text": [
      "WilcoxonResult(statistic=2.0, pvalue=0.01171875)\n",
      "\n",
      " WilcoxonResult(statistic=88.0, pvalue=1.1313175491522998e-05)\n"
     ]
    }
   ],
   "source": [
    "df[\"method_condition\"] = df[\"method\"] + \"_\" + df[\"vector_averaging\"]\n",
    "\n",
    "# Comparing the same bees\n",
    "# Comparison 1: vec averaging when comparing midpt vs control\n",
    "df_1a = df[df[\"method_condition\"] == \"midpoint_True\"][\"abs_deg\"].values\n",
    "df_1b = df[df[\"method_condition\"] == \"no_antennae_True\"][\"abs_deg\"].values\n",
    "res = scipy.stats.wilcoxon(df_1a, df_1b)\n",
    "print(res)\n",
    "\n",
    "# Comparison 2: first phase when comparing midpt vs control\n",
    "df_1a = df[df[\"method_condition\"] == \"midpoint_False\"][\"abs_deg\"].values\n",
    "df_1b = df[df[\"method_condition\"] == \"no_antennae_False\"][\"abs_deg\"].values\n",
    "res = scipy.stats.wilcoxon(df_1a, df_1b)\n",
    "print(\"\\n\", res)"
   ]
  },
  {
   "cell_type": "code",
   "execution_count": 33,
   "metadata": {},
   "outputs": [
    {
     "name": "stdout",
     "output_type": "stream",
     "text": [
      "KruskalResult(statistic=5.281432748538009, pvalue=0.02155400439253743)\n",
      "Dunn's test post hoc:\n",
      "                 midpoint_False  midpoint_True\n",
      "midpoint_False        1.000000       0.021554\n",
      "midpoint_True         0.021554       1.000000\n",
      "KruskalResult(statistic=0.04678362573099548, pvalue=0.8287576284011177)\n",
      "Dunn's test post hoc:\n",
      "                    no_antennae_False  no_antennae_True\n",
      "no_antennae_False           1.000000          0.828758\n",
      "no_antennae_True            0.828758          1.000000\n",
      "KruskalResult(statistic=0.7960526315789593, pvalue=0.3722761945041738)\n",
      "Dunn's test post hoc:\n",
      "                   midpoint_False  no_antennae_True\n",
      "midpoint_False          1.000000          0.372276\n",
      "no_antennae_True        0.372276          1.000000\n",
      "KruskalResult(statistic=7.60526315789474, pvalue=0.005819816954009846)\n",
      "Dunn's test post hoc:\n",
      "                    midpoint_True  no_antennae_False\n",
      "midpoint_True            1.00000            0.00582\n",
      "no_antennae_False        0.00582            1.00000\n"
     ]
    }
   ],
   "source": [
    "compare_df = df[df[\"method_condition\"].isin([\"midpoint_True\", \"midpoint_False\"])]\n",
    "res = scipy.stats.kruskal(*compare_df.groupby(\"method_condition\")[\"abs_deg\"].apply(list).values)\n",
    "print(res)\n",
    "# Dunn's test Post hoc pairwise test for multiple comparisons of mean rank sums, following Kruskal Wallis test\n",
    "res = scikit_posthocs.posthoc_dunn(compare_df, val_col=\"abs_deg\", group_col=\"method_condition\")\n",
    "print(\"Dunn's test post hoc:\\n\", res)\n",
    "\n",
    "compare_df = df[df[\"method_condition\"].isin([\"no_antennae_True\", \"no_antennae_False\"])]\n",
    "res = scipy.stats.kruskal(*compare_df.groupby(\"method_condition\")[\"abs_deg\"].apply(list).values)\n",
    "print(res)\n",
    "# Dunn's test Post hoc pairwise test for multiple comparisons of mean rank sums, following Kruskal Wallis test\n",
    "res = scikit_posthocs.posthoc_dunn(compare_df, val_col=\"abs_deg\", group_col=\"method_condition\")\n",
    "print(\"Dunn's test post hoc:\\n\", res)\n",
    "\n",
    "compare_df = df[df[\"method_condition\"].isin([\"no_antennae_True\", \"midpoint_False\"])]\n",
    "res = scipy.stats.kruskal(*compare_df.groupby(\"method_condition\")[\"abs_deg\"].apply(list).values)\n",
    "print(res)\n",
    "# Dunn's test Post hoc pairwise test for multiple comparisons of mean rank sums, following Kruskal Wallis test\n",
    "res = scikit_posthocs.posthoc_dunn(compare_df, val_col=\"abs_deg\", group_col=\"method_condition\")\n",
    "print(\"Dunn's test post hoc:\\n\", res)\n",
    "\n",
    "compare_df = df[df[\"method_condition\"].isin([\"no_antennae_False\", \"midpoint_True\"])]\n",
    "res = scipy.stats.kruskal(*compare_df.groupby(\"method_condition\")[\"abs_deg\"].apply(list).values)\n",
    "print(res)\n",
    "# Dunn's test Post hoc pairwise test for multiple comparisons of mean rank sums, following Kruskal Wallis test\n",
    "res = scikit_posthocs.posthoc_dunn(compare_df, val_col=\"abs_deg\", group_col=\"method_condition\")\n",
    "print(\"Dunn's test post hoc:\\n\", res)"
   ]
  },
  {
   "cell_type": "markdown",
   "metadata": {},
   "source": [
    "### Heatmap: transition probabilities (4F)"
   ]
  },
  {
   "cell_type": "code",
   "execution_count": 34,
   "metadata": {},
   "outputs": [
    {
     "name": "stdout",
     "output_type": "stream",
     "text": [
      "{'tp_rr': 0.25925925925925924, 'tp_rl': 0.7407407407407407, 'tp_ll': 0.25, 'tp_lr': 0.75, 'index': 0.6204561042524006}\n"
     ]
    },
    {
     "data": {
      "image/png": "[encoded data removed]",
      "text/plain": [
       "<Figure size 170x170 with 1 Axes>"
      ]
     },
     "metadata": {},
     "output_type": "display_data"
    }
   ],
   "source": [
    "def compute_predictability(LL, RR, RL, LR) -> dict:\n",
    "    \"\"\"Compute the predictability index for all entries in given dict.\"\"\"\n",
    "    if (\n",
    "        RR + RL == 0\n",
    "        or LL + LR == 0\n",
    "    ):\n",
    "        return -1\n",
    "    res = {}\n",
    "    tp_rr = RR / (RR + RL)\n",
    "    tp_rl = RL / (RR + RL)\n",
    "    tp_ll = LL / (LL + LR)\n",
    "    tp_lr = LR / (LL + LR)\n",
    "    res[\"tp_rr\"] = tp_rr\n",
    "    res[\"tp_rl\"] = tp_rl\n",
    "    res[\"tp_ll\"] = tp_ll\n",
    "    res[\"tp_lr\"] = tp_lr\n",
    "    res[\"index\"] = 1 - (tp_rr * tp_rl + tp_ll * tp_lr)\n",
    "    return res\n",
    "\n",
    "LL = 6\n",
    "RR = 7 \n",
    "RL = 20\n",
    "LR = 18\n",
    "pred = compute_predictability(LL, RR, RL, LR)\n",
    "print(pred)\n",
    "data = np.array([[pred[\"tp_rr\"], pred[\"tp_rl\"]], [pred[\"tp_lr\"], pred[\"tp_ll\"]]])\n",
    "plt.figure(figsize=(1.7,1.7))\n",
    "ax = sns.heatmap(data, vmin=0, vmax=1, cmap=cmocean.cm.balance, linewidths=1, linecolor='black',clip_on=False, cbar=False)\n",
    "ax.set_xticklabels(\"\")\n",
    "ax.set_yticklabels(\"\")\n",
    "plt.show()"
   ]
  },
  {
   "cell_type": "code",
   "execution_count": 35,
   "metadata": {},
   "outputs": [
    {
     "name": "stdout",
     "output_type": "stream",
     "text": [
      "Chi2: 10.359374999999996 , p: 0.0012881880956681674 , dof: 1\n",
      "expected counts:\n",
      " [[12.23529412 11.76470588]\n",
      " [13.76470588 13.23529412]]\n"
     ]
    }
   ],
   "source": [
    "# Chi square test of independence: transition probabilities\n",
    "obs = np.array([[LL, LR], [RL, RR]])\n",
    "chi2, p, dof, ex = scipy.stats.chi2_contingency(obs)\n",
    "print(\"Chi2:\", chi2, \", p:\", p, \", dof:\", dof)\n",
    "print(\"expected counts:\\n\", ex)"
   ]
  },
  {
   "cell_type": "markdown",
   "metadata": {},
   "source": [
    "### Polarplot: phase averaging example (4G)"
   ]
  },
  {
   "cell_type": "code",
   "execution_count": 36,
   "metadata": {},
   "outputs": [],
   "source": [
    "method = \"midpoint\"\n",
    "method_csv = list((data_root).glob(f\"{experiment_run_date}*{method}*{max_antenna_angle}MaxAntennaPos*-{nbins}bins-errors.csv\"))[0]\n",
    "df = pd.read_csv(method_csv)\n",
    "bee = \"RF5\"\n",
    "phase1_df = df[df[\"bee_id\"] == f\"{bee}\"]\n",
    "phase2_df = df[df[\"bee_id\"] == f\"{bee}_1\"]\n",
    "phase3_df = df[df[\"bee_id\"] == f\"{bee}_2\"]"
   ]
  },
  {
   "cell_type": "code",
   "execution_count": 37,
   "metadata": {},
   "outputs": [
    {
     "data": {
      "image/png": "[encoded data removed]",
      "text/plain": [
       "<Figure size 200x170 with 1 Axes>"
      ]
     },
     "metadata": {},
     "output_type": "display_data"
    }
   ],
   "source": [
    "plt.figure(figsize=(2, 1.7))\n",
    "ax = plt.subplot(projection='polar')\n",
    "colours = {0: \"lightgray\", 1:\"gray\", 2:\"black\"}\n",
    "vectors = []\n",
    "for i, phase_df in enumerate([phase1_df, phase2_df, phase3_df]):\n",
    "    vectors.append(phase_df[\"vector_error_rad\"].values[:270])\n",
    "    final_error = phase_df[\"vector_error_rad\"].iloc[-1]\n",
    "    ax.plot([0.0, final_error], [0, phase_df[\"frame\"].iloc[-1]], color=colours[i], linewidth=2.0, alpha=0.9)\n",
    "    ax.plot(phase_df[\"vector_error_rad\"], phase_df[\"frame\"], color=colours[i], linewidth=1.3, alpha=0.8)\n",
    "\n",
    "final_frame = 270\n",
    "my_colors = [\"#2E22EA\",\"#9E3DFB\",\"#F86BE2\",\"#FCCE7B\",\"#C4E416\",\"#4BBA0F\",\"#447D87\",\"#2C24E9\"]\n",
    "mean_dir = scipy.stats.circmean(vectors, axis=0, high=np.pi, low=-np.pi)\n",
    "ax.plot(mean_dir, range(mean_dir.shape[0]), color=my_colors[7], linewidth=1.3, alpha=0.8)\n",
    "ax.plot([0, mean_dir[-1]], [0, final_frame], color=my_colors[7], alpha=0.9, linewidth=2.0)\n",
    "\n",
    "ylim = 295\n",
    "lw = 0.7\n",
    "ax.set_yticklabels(\"\")\n",
    "ax.set_theta_zero_location(\"N\")\n",
    "ax.set_thetamin(-180)\n",
    "ax.set_thetamax(180)\n",
    "ax.set_thetagrids([0, 90, 180, -90], fontsize=11)\n",
    "ax.spines['polar'].set_visible(False)\n",
    "ax.set_xticklabels([\"\", \"\", \"\", \"\"])\n",
    "ax.grid(False)\n",
    "ax.set_ylim(0, ylim)\n",
    "circle = plt.Circle((0.0, 0.0), ylim, transform=ax.transData._b, fill=False, linewidth=1.5, zorder=2)\n",
    "ax.add_artist(circle)\n",
    "ax.axvline(0, 0, 180, color=\"#BCBCBC\", linewidth=lw, zorder=-1, alpha=0.5)\n",
    "ax.axvline(np.radians(180), 0, 180, color=\"#BCBCBC\", linewidth=lw, zorder=-1, alpha=0.5)\n",
    "ax.axvline(np.radians(90), 0, 180, color=\"#BCBCBC\", linewidth=lw, zorder=-1, alpha=0.5)\n",
    "ax.axvline(np.radians(-90), 0, 180, color=\"#BCBCBC\", linewidth=lw, zorder=-1, alpha=0.5)\n",
    "plt.tight_layout()"
   ]
  },
  {
   "cell_type": "code",
   "execution_count": 38,
   "metadata": {},
   "outputs": [
    {
     "name": "stdout",
     "output_type": "stream",
     "text": [
      "Mean waggle dir -59.44979672335144 deg\n",
      "bee_id\n",
      "RF5     -59.791025\n",
      "RF5_1   -65.711306\n",
      "RF5_2   -52.844898\n",
      "dtype: float64\n"
     ]
    }
   ],
   "source": [
    "df = pd.read_csv(f\"{data_root / experiment_run_date}-features.csv\")\n",
    "rf5_df = df[df[\"bee_id\"].isin([\"RF5\", \"RF5_1\", \"RF5_2\"])]\n",
    "mean_waggle_dirs = rf5_df.groupby(\"bee_id\").apply(lambda row: scipy.stats.circmean(row[\"dancers_angle_to_gravity_rad\"], high=np.pi, low=-np.pi))\n",
    "print(\"Mean waggle dir\", np.degrees(scipy.stats.circmean(mean_waggle_dirs, high=np.pi, low=-np.pi)), \"deg\")\n",
    "print(np.degrees(mean_waggle_dirs))"
   ]
  },
  {
   "cell_type": "markdown",
   "metadata": {},
   "source": [
    "# Misc"
   ]
  },
  {
   "cell_type": "markdown",
   "metadata": {},
   "source": [
    "### Simplified modelled antennal relationship (Fig. 3A)"
   ]
  },
  {
   "cell_type": "code",
   "execution_count": 39,
   "metadata": {},
   "outputs": [
    {
     "data": {
      "image/png": "[encoded data removed]",
      "text/plain": [
       "<Figure size 200x170 with 2 Axes>"
      ]
     },
     "metadata": {},
     "output_type": "display_data"
    }
   ],
   "source": [
    "# Target angles relative to dancer\n",
    "stepsize = np.radians(1)\n",
    "pos_half = np.arange(0.0, np.pi + stepsize, stepsize)\n",
    "neg_half = np.arange(-np.pi, 0.0, stepsize)\n",
    "VALID_ANGLES_TO_DANCER = np.concatenate((pos_half, neg_half))\n",
    "\n",
    "# Vaild antennae positions\n",
    "max_antenna_pos = np.pi / 2\n",
    "step = max_antenna_pos / VALID_ANGLES_TO_DANCER.shape[0]\n",
    "right_antennae = np.flip(np.arange(-max_antenna_pos, 0, step))\n",
    "left_antennae = np.flip(np.arange(0, max_antenna_pos, step))\n",
    "\n",
    "fig, ax1 = plt.subplots(figsize=(2, 1.7))\n",
    "plt.xticks([0, 180])\n",
    "ax1.set_xticklabels([\"\", \"\"])\n",
    "ax1.set_yticks([0, 90])\n",
    "ax1.set_yticklabels([\"\", \"\"])\n",
    "ax1.plot(np.degrees(left_antennae), color=\"#33813E\")  # Angle to dancer (x) vs. left antenna (y)\n",
    "ax1.tick_params(axis='y')\n",
    "ax2 = ax1.twinx()\n",
    "ax2.plot(np.degrees(right_antennae), color=\"#FB00FF\") # Angle to dancer (x) vs. right antenna (y)\n",
    "ax2.tick_params(axis='y')\n",
    "ax2.invert_yaxis()\n",
    "ax2.set_yticks([0, -90])\n",
    "ax2.set_yticklabels([\"\", \"\"])\n",
    "fig.tight_layout()\n",
    "ax2.spines[['top']].set_visible(False)\n",
    "ax1.spines[['top']].set_visible(False)"
   ]
  },
  {
   "cell_type": "markdown",
   "metadata": {},
   "source": [
    "### Scatterplot: model predictions (full length left and right antenna) (Fig. S2D top)"
   ]
  },
  {
   "cell_type": "code",
   "execution_count": 40,
   "metadata": {},
   "outputs": [
    {
     "name": "stdout",
     "output_type": "stream",
     "text": [
      "Pearson's: 0.6544236827380582\n"
     ]
    }
   ],
   "source": [
    "model_fit_df = pd.read_csv(\"datasets/full_antenna_length_fit_predictions.csv\").drop(columns=[\"Unnamed: 0\"])\n",
    "model_fit_df[\"actual_deg\"] = np.degrees(model_fit_df[\"actual\"])\n",
    "model_fit_df[\"angle_to_dancer_deg\"] = np.degrees(model_fit_df[\"angle_to_dancer_rad\"])\n",
    "\n",
    "y = model_fit_df[\"angle_to_dancer_deg\"]\n",
    "x = model_fit_df[\"actual_deg\"]\n",
    "r, p = scipy.stats.pearsonr(x, y)\n",
    "print(\"Pearson's:\", r)"
   ]
  },
  {
   "cell_type": "code",
   "execution_count": 41,
   "metadata": {},
   "outputs": [
    {
     "name": "stdout",
     "output_type": "stream",
     "text": [
      "Pearson's: 0.6845340298553478\n"
     ]
    },
    {
     "data": {
      "image/png": "[encoded data removed]",
      "text/plain": [
       "<Figure size 180x170 with 1 Axes>"
      ]
     },
     "metadata": {},
     "output_type": "display_data"
    }
   ],
   "source": [
    "sample = model_fit_df.sample(500)\n",
    "plt.figure(figsize=(1.8, 1.7))\n",
    "plt.scatter(sample[\"actual_deg\"], sample[\"angle_to_dancer_deg\"], s=1, color=\"#BCBCBC\", alpha=0.8)\n",
    "plt.plot(np.unique(sample[\"actual_deg\"]), np.poly1d(np.polyfit(sample[\"actual_deg\"], sample[\"angle_to_dancer_deg\"], 1))(np.unique(sample[\"actual_deg\"])), color=\"black\")\n",
    "plt.plot([0, 358], [0, 357], color=\"#2533e0\")\n",
    "plt.ylim(-15, 360)\n",
    "plt.xlim(-15, 360)\n",
    "plt.xticks([0, 180, 360])\n",
    "plt.yticks([0, 180, 360])\n",
    "ax = plt.gca()\n",
    "ax.set_aspect(\"equal\")\n",
    "ax.set_yticklabels([\"\", \"\", \"\"])\n",
    "ax.set_xticklabels([\"\", \"\", \"\"])\n",
    "ax.spines[['top', 'right']].set_visible(False)\n",
    "plt.xlabel(\"\")\n",
    "plt.ylabel(\"\")\n",
    "y = sample[\"angle_to_dancer_deg\"]\n",
    "x = sample[\"actual_deg\"]\n",
    "r, p = scipy.stats.pearsonr(x, y)\n",
    "print(\"Pearson's:\", r)"
   ]
  },
  {
   "cell_type": "markdown",
   "metadata": {},
   "source": [
    "### Scatterplot: model predictions (mid length left and right antenna) (Fig. S2D bottom)"
   ]
  },
  {
   "cell_type": "code",
   "execution_count": 42,
   "metadata": {},
   "outputs": [
    {
     "name": "stdout",
     "output_type": "stream",
     "text": [
      "Pearson's: 0.5671429741237555\n"
     ]
    }
   ],
   "source": [
    "model_fit_df = pd.read_csv(\"datasets/mid_antenna_length_fit_predictions.csv\").drop(columns=[\"Unnamed: 0\"])\n",
    "model_fit_df[\"actual_deg\"] = np.degrees(model_fit_df[\"actual\"])\n",
    "model_fit_df[\"angle_to_dancer_deg\"] = np.degrees(model_fit_df[\"angle_to_dancer_rad\"])\n",
    "y = model_fit_df[\"angle_to_dancer_deg\"]\n",
    "x = model_fit_df[\"actual_deg\"]\n",
    "r, p = scipy.stats.pearsonr(x, y)\n",
    "print(\"Pearson's:\", r)"
   ]
  },
  {
   "cell_type": "code",
   "execution_count": 43,
   "metadata": {},
   "outputs": [
    {
     "name": "stdout",
     "output_type": "stream",
     "text": [
      "Pearson's: 0.5728807262138995\n"
     ]
    },
    {
     "data": {
      "image/png": "[encoded data removed]",
      "text/plain": [
       "<Figure size 180x170 with 1 Axes>"
      ]
     },
     "metadata": {},
     "output_type": "display_data"
    }
   ],
   "source": [
    "sample = model_fit_df.sample(500)\n",
    "plt.figure(figsize=(1.8, 1.7))\n",
    "plt.scatter(sample[\"actual_deg\"], sample[\"angle_to_dancer_deg\"], s=1, color=\"#BCBCBC\", alpha=0.8)\n",
    "plt.plot(np.unique(sample[\"actual_deg\"]), np.poly1d(np.polyfit(sample[\"actual_deg\"], sample[\"angle_to_dancer_deg\"], 1))(np.unique(sample[\"actual_deg\"])), color=\"black\")\n",
    "plt.plot([0, 358], [0, 357], color=\"#2533e0\")\n",
    "plt.ylim(-15, 360)\n",
    "plt.xlim(-15, 360)\n",
    "plt.xticks([0, 180, 360])\n",
    "plt.yticks([0, 180, 360])\n",
    "ax = plt.gca()\n",
    "ax.set_aspect(\"equal\")\n",
    "ax.set_yticklabels([\"\", \"\", \"\"])\n",
    "ax.set_xticklabels([\"\", \"\", \"\"])\n",
    "ax.spines[['top', 'right']].set_visible(False)\n",
    "plt.xlabel(\"\")\n",
    "plt.ylabel(\"\")\n",
    "y = sample[\"angle_to_dancer_deg\"]\n",
    "x = sample[\"actual_deg\"]\n",
    "r, p = scipy.stats.pearsonr(x, y)\n",
    "print(\"Pearson's:\", r)"
   ]
  },
  {
   "cell_type": "markdown",
   "metadata": {},
   "source": [
    "### Activity plots: synthetic example (Fig. 3E)"
   ]
  },
  {
   "cell_type": "code",
   "execution_count": null,
   "metadata": {},
   "outputs": [],
   "source": [
    "# Generate synthetic data to feed to assimilation circuit\n",
    "# recruits_headings = np.concatenate(\n",
    "#     (\n",
    "#         (np.arange(np.radians(180), np.radians(0), np.radians(-1))),\n",
    "#         -np.arange(np.radians(0), np.radians(180), np.radians(1)),\n",
    "#     )\n",
    "# )\n",
    "# noise = np.random.default_rng().vonmises(0.0, 2.0, recruits_headings.shape[0])\n",
    "# smoothed_noise = scipy.ndimage.gaussian_filter1d(noise, sigma=2)\n",
    "# recruits_headings += smoothed_noise\n",
    "# recruits_headings = scipy.ndimage.gaussian_filter1d(recruits_headings, sigma=3)\n",
    "# dancers_headings = np.array([np.radians(-90.0)] * len(recruits_headings))\n",
    "# noise = np.random.default_rng().vonmises(0.0, 10.0, dancers_headings.shape[0])\n",
    "# smoothed_noise = scipy.ndimage.gaussian_filter1d(noise, sigma=8)\n",
    "# dancers_headings += smoothed_noise\n",
    "# np.savez(\n",
    "#     \"model_sim_data.npz\",\n",
    "#     dancers_headings=dancers_headings,\n",
    "#     recruits_headings=recruits_headings,\n",
    "# )"
   ]
  },
  {
   "cell_type": "code",
   "execution_count": 44,
   "metadata": {},
   "outputs": [
    {
     "name": "stderr",
     "output_type": "stream",
     "text": [
      "/var/folders/zk/_6v92pbn1jb2gnrh76qkpng1y98vd4/T/ipykernel_96160/4233445603.py:26: UserWarning: set_ticklabels() should only be used with a fixed number of ticks, i.e. after set_ticks() or using a FixedLocator.\n",
      "  ax.set_xticklabels([\"\", \"\", \"\", \"\"])\n"
     ]
    },
    {
     "data": {
      "image/png": "[encoded data removed]",
      "text/plain": [
       "<Figure size 200x100 with 2 Axes>"
      ]
     },
     "metadata": {},
     "output_type": "display_data"
    }
   ],
   "source": [
    "sim_data = np.load(\"datasets/model_sim_data_extra.npz\")\n",
    "\n",
    "plt.figure(figsize=(2, 1))\n",
    "ax = plt.subplot(121, projection=\"polar\")\n",
    "ax2 = plt.subplot(122, projection='polar')\n",
    "\n",
    "ax.plot(\n",
    "    sim_data[\"recruits_headings\"],\n",
    "    range(sim_data[\"recruits_headings\"].shape[0]),\n",
    "    color=\"darkgray\"\n",
    ")\n",
    "ax2.plot(\n",
    "    sim_data[\"angles_to_dancer\"],\n",
    "    range(sim_data[\"angles_to_dancer\"].shape[0]),\n",
    "    color=\"darkgray\"\n",
    ")\n",
    "\n",
    "ax.set_yticks([])\n",
    "ax.set_theta_zero_location(\"N\")\n",
    "ax.set_thetamin(-180)\n",
    "ax.set_thetamax(180)\n",
    "plt.thetagrids([0, 90, 180, -90], fontsize=16)\n",
    "ylim = sim_data[\"recruits_headings\"].shape[0]\n",
    "lw = 0.7\n",
    "ax.spines['polar'].set_visible(False)\n",
    "ax.set_xticklabels([\"\", \"\", \"\", \"\"])\n",
    "ax.grid(False)\n",
    "ax.set_ylim(0, ylim)\n",
    "circle = plt.Circle((0.0, 0.0), ylim, transform=ax.transData._b, fill=False, linewidth=1.5, zorder=2)\n",
    "ax.add_artist(circle)\n",
    "ax.axvline(0, 0, 180, color=\"#BCBCBC\", linewidth=lw, zorder=-1, alpha=0.5)\n",
    "ax.axvline(np.radians(180), 0, 180, color=\"#BCBCBC\", linewidth=lw, zorder=-1, alpha=0.5)\n",
    "ax.axvline(np.radians(90), 0, 180, color=\"#BCBCBC\", linewidth=lw, zorder=-1, alpha=0.5)\n",
    "ax.axvline(np.radians(-90), 0, 180, color=\"#BCBCBC\", linewidth=lw, zorder=-1, alpha=0.5)\n",
    "\n",
    "ax2.set_yticks([])\n",
    "ax2.set_theta_zero_location(\"N\")\n",
    "ax2.set_thetamin(-180)\n",
    "ax2.set_thetamax(180)\n",
    "plt.thetagrids([0, 90, 180, -90], fontsize=16)\n",
    "ylim = sim_data[\"recruits_headings\"].shape[0]\n",
    "lw = 0.7\n",
    "ax2.spines['polar'].set_visible(False)\n",
    "ax2.set_xticklabels([\"\", \"\", \"\", \"\"])\n",
    "ax2.grid(False)\n",
    "ax2.set_ylim(0, ylim)\n",
    "circle = plt.Circle((0.0, 0.0), ylim, transform=ax2.transData._b, fill=False, linewidth=1.5, zorder=2)\n",
    "ax2.add_artist(circle)\n",
    "ax2.axvline(0, 0, 180, color=\"#BCBCBC\", linewidth=lw, zorder=-1, alpha=0.5)\n",
    "ax2.axvline(np.radians(180), 0, 180, color=\"#BCBCBC\", linewidth=lw, zorder=-1, alpha=0.5)\n",
    "ax2.axvline(np.radians(90), 0, 180, color=\"#BCBCBC\", linewidth=lw, zorder=-1, alpha=0.5)\n",
    "ax2.axvline(np.radians(-90), 0, 180, color=\"#BCBCBC\", linewidth=lw, zorder=-1, alpha=0.5)\n",
    "plt.show()"
   ]
  },
  {
   "cell_type": "code",
   "execution_count": 45,
   "metadata": {},
   "outputs": [
    {
     "name": "stderr",
     "output_type": "stream",
     "text": [
      "/var/folders/zk/_6v92pbn1jb2gnrh76qkpng1y98vd4/T/ipykernel_96160/3270901445.py:39: UserWarning: Tight layout not applied. tight_layout cannot make axes height small enough to accommodate all axes decorations.\n",
      "  plt.tight_layout()\n"
     ]
    },
    {
     "data": {
      "image/png": "[encoded data removed]",
      "text/plain": [
       "<Figure size 250x300 with 6 Axes>"
      ]
     },
     "metadata": {},
     "output_type": "display_data"
    }
   ],
   "source": [
    "def remap_angles(angles):\n",
    "    angles[angles < 0] += 360\n",
    "    angles = angles / 45\n",
    "    return angles\n",
    "\n",
    "cx_events = np.load(\"datasets/20231115-2112/d307db75f52f568339e3a99ad9fba8a6/cx_events.npz\")\n",
    "\n",
    "f, (ax1, ax2, ax3, ax4, ax5, ax6) = plt.subplots(6, 1, sharex=True, dpi=100)\n",
    "f.set_size_inches(2.5, 3)\n",
    "\n",
    "colors = [\"white\", \"#75ffff\", \"#009d9d\"]\n",
    "cm = matplotlib.colors.LinearSegmentedColormap.from_list(\"Custom\", colors, N=30)\n",
    "ax1.pcolormesh(cx_events[\"epg\"].T, vmin=0, vmax=1, cmap=cm)\n",
    "\n",
    "colors = [\"white\", \"#bfd363ff\", \"#728c00ff\"]\n",
    "green_cmap = matplotlib.colors.LinearSegmentedColormap.from_list(\"Custom\", colors, N=30)\n",
    "colors = [\"white\", \"#fd8affff\", \"#cb00ceff\"]\n",
    "purple_cmap = matplotlib.colors.LinearSegmentedColormap.from_list(\"Custom\", colors, N=30)\n",
    "ax2.pcolormesh(cx_events[\"pfnd\"].T[:8,], vmin=0.0, vmax=1.0, cmap=green_cmap, linewidth=0, edgecolor=\"none\")\n",
    "ax3.pcolormesh(cx_events[\"pfnd\"].T[8:,], vmin=0.0, vmax=1.0, cmap=purple_cmap, linewidth=0, edgecolor=\"none\")\n",
    "ax4.pcolormesh(cx_events[\"pfnv\"].T[:8,], vmin=0.0, vmax=1.0, cmap=green_cmap, linewidth=0, edgecolor=\"none\")\n",
    "ax5.pcolormesh(cx_events[\"pfnv\"].T[8:,], vmin=0.0, vmax=1.0, cmap=purple_cmap, linewidth=0, edgecolor=\"none\")\n",
    "\n",
    "colors = [\"#e6ac01\", \"#ffe599ff\", \"white\"]\n",
    "cm1 = matplotlib.colors.LinearSegmentedColormap.from_list(\"Custom\", colors, N=30)\n",
    "ax6.pcolormesh(cx_events[\"hdelta\"].T, vmin=0.0, vmax=1.2, cmap=cm1)\n",
    "angles = remap_angles(np.degrees(sim_data[\"dancers_headings\"]))\n",
    "ax6.plot(angles, \"--\", color=\"black\")\n",
    "\n",
    "ax1.set_yticks([0, 8])\n",
    "plt.setp(ax1.get_yticklabels(), visible=False)\n",
    "ax1.set_xticks([])\n",
    "ax2.set_yticks([8])\n",
    "plt.setp(ax2.get_yticklabels(), visible=False)\n",
    "ax2.set_xticks([])\n",
    "ax3.set_yticks([0])\n",
    "plt.setp(ax3.get_yticklabels(), visible=False)\n",
    "ax3.set_xticks([])\n",
    "plt.tight_layout()\n",
    "plt.subplots_adjust(hspace=0.5)\n",
    "ax4.set_xticks([])\n",
    "ax4.set_yticks([8])\n",
    "plt.setp(ax4.get_yticklabels(), visible=False)\n",
    "ax5.set_xticks([])\n",
    "ax5.set_yticks([0])\n",
    "plt.setp(ax5.get_yticklabels(), visible=False)\n",
    "ax6.set_xticks([])\n",
    "ax6.set_yticks([0, 8])\n",
    "plt.setp(ax6.get_yticklabels(), visible=False)\n",
    "plt.subplots_adjust(hspace=0.2)"
   ]
  },
  {
   "cell_type": "markdown",
   "metadata": {},
   "source": [
    "### Antennal noise (Fig. 3F)"
   ]
  },
  {
   "cell_type": "code",
   "execution_count": 46,
   "metadata": {},
   "outputs": [
    {
     "data": {
      "image/png": "[encoded data removed]",
      "text/plain": [
       "<Figure size 150x150 with 1 Axes>"
      ]
     },
     "metadata": {},
     "output_type": "display_data"
    }
   ],
   "source": [
    "plt.figure(figsize=(1.5,1.5))\n",
    "ax = plt.subplot(projection=\"polar\")\n",
    "samples_left = np.random.default_rng().vonmises(0, 10.0, 1000)\n",
    "plt.hist(\n",
    "    samples_left,\n",
    "    bins=15,\n",
    "    align=\"mid\",\n",
    "    alpha=0.5,\n",
    "    color=\"grey\",\n",
    "    rwidth=0.8,\n",
    "    label=\"leftward\",\n",
    "    density=True,\n",
    ")\n",
    "ax.set_theta_zero_location(\"N\")\n",
    "ax.set_yticks([])\n",
    "ax.set_theta_zero_location(\"N\")\n",
    "ax.set_thetamin(-180)\n",
    "ax.set_thetamax(180)\n",
    "ax.set_rlabel_position(45)\n",
    "plt.thetagrids([0, 45, -45], fontsize=12)\n",
    "ax.spines[\"polar\"].set_visible(False)"
   ]
  },
  {
   "cell_type": "markdown",
   "metadata": {},
   "source": [
    "### Connectivity matrices (Fig. S3)"
   ]
  },
  {
   "cell_type": "code",
   "execution_count": 47,
   "metadata": {},
   "outputs": [],
   "source": [
    "plt.rcParams['axes.linewidth'] = 1.1\n",
    "plt.rcParams['xtick.major.width'] = 1.1\n",
    "plt.rcParams['ytick.major.width'] = 1.1"
   ]
  },
  {
   "cell_type": "code",
   "execution_count": 48,
   "metadata": {},
   "outputs": [
    {
     "data": {
      "image/png": "[encoded data removed]",
      "text/plain": [
       "<Figure size 300x150 with 1 Axes>"
      ]
     },
     "metadata": {},
     "output_type": "display_data"
    }
   ],
   "source": [
    "plt.figure(figsize=(3, 1.5))\n",
    "cmap = matplotlib.colors.LinearSegmentedColormap.from_list('', ['#ffffff', '#26e0e3'])\n",
    "matrix = np.random.randint(0, 2, size=(10, 10))\n",
    "N_EPG = 8\n",
    "W_EPG_PFN = np.tile(np.eye(N_EPG), reps=(1, 2))  # (8, 16)\n",
    "\n",
    "plt.pcolormesh(W_EPG_PFN, edgecolors='lightgray', linewidth=1, cmap=cmap)\n",
    "plt.gca().set_aspect('equal')\n",
    "plt.gca().invert_yaxis()\n",
    "plt.xticks([0.5, 7.5, 15.5])\n",
    "plt.gca().set_xticklabels([\"\", \"\", \"\"])\n",
    "plt.yticks([0.5, 7.5])\n",
    "plt.gca().set_yticklabels([\"\", \"\"])\n",
    "plt.show()"
   ]
  },
  {
   "cell_type": "code",
   "execution_count": 49,
   "metadata": {},
   "outputs": [
    {
     "data": {
      "image/png": "[encoded data removed]",
      "text/plain": [
       "<Figure size 300x50 with 1 Axes>"
      ]
     },
     "metadata": {},
     "output_type": "display_data"
    }
   ],
   "source": [
    "plt.figure(figsize=(3, 0.5))\n",
    "W_LNO_PFN = np.array(\n",
    "    [\n",
    "        [1, 1, 1, 1, 1, 1, 1, 1, 0, 0, 0, 0, 0, 0, 0, 0],\n",
    "        [0, 0, 0, 0, 0, 0, 0, 0, 1, 1, 1, 1, 1, 1, 1, 1],\n",
    "    ]\n",
    ")  # (2, 16)\n",
    "cmap = matplotlib.colors.LinearSegmentedColormap.from_list('', ['#ffffff', '#e79a48'])\n",
    "plt.pcolormesh(W_LNO_PFN, edgecolors='lightgray', linewidth=1, cmap=cmap)\n",
    "plt.gca().set_aspect('equal')\n",
    "plt.gca().invert_yaxis()\n",
    "plt.yticks([0.5, 1.5])\n",
    "plt.gca().set_yticklabels([\"\", \"\"])\n",
    "plt.xticks([0.5, 7.5, 15.5])\n",
    "plt.gca().set_xticklabels(\"\")\n",
    "plt.show()"
   ]
  },
  {
   "cell_type": "code",
   "execution_count": 50,
   "metadata": {},
   "outputs": [
    {
     "data": {
      "image/png": "[encoded data removed]",
      "text/plain": [
       "<Figure size 150x300 with 1 Axes>"
      ]
     },
     "metadata": {},
     "output_type": "display_data"
    }
   ],
   "source": [
    "plt.figure(figsize=(1.5, 3))\n",
    "W_PFNdl_HDELTA = np.roll(np.eye(8), 1, axis=1)  # (8, 8)\n",
    "W_PFNdr_HDELTA = np.roll(np.eye(8), -1, axis=1) * 0.5 # (8, 8)\n",
    "W_PFNd_HDELTA = np.vstack((W_PFNdl_HDELTA, W_PFNdr_HDELTA))  # (16, 8)\n",
    "cmap = matplotlib.colors.LinearSegmentedColormap.from_list('', ['#ffffff', \"#ec8bf8\", '#829d2a'])\n",
    "plt.pcolormesh(W_PFNd_HDELTA, edgecolors='lightgray', linewidth=1, cmap=cmap)\n",
    "plt.gca().set_aspect('equal')\n",
    "plt.gca().invert_yaxis()\n",
    "plt.yticks([0.5, 7.5, 15.5])\n",
    "plt.gca().set_yticklabels([\"\", \"\", \"\"])\n",
    "plt.xticks([0.5, 7.5])\n",
    "plt.gca().set_xticklabels([\"\", \"\"])\n",
    "plt.show()"
   ]
  },
  {
   "cell_type": "code",
   "execution_count": 51,
   "metadata": {},
   "outputs": [
    {
     "data": {
      "image/png": "[encoded data removed]",
      "text/plain": [
       "<Figure size 150x300 with 1 Axes>"
      ]
     },
     "metadata": {},
     "output_type": "display_data"
    }
   ],
   "source": [
    "plt.figure(figsize=(1.5, 3))\n",
    "W_PFNvl_HDELTA = np.roll(np.eye(8), 3, axis=1)  # (8, 8)\n",
    "W_PFNvr_HDELTA = np.roll(np.eye(8), -3, axis=1) * 0.5  # (8, 8)\n",
    "W_PFNv_HDELTA = np.vstack((W_PFNvl_HDELTA, W_PFNvr_HDELTA))  # (16, 8)\n",
    "cmap = matplotlib.colors.LinearSegmentedColormap.from_list('', ['#ffffff', \"#ec8bf8\", '#829d2a'])\n",
    "plt.pcolormesh(W_PFNv_HDELTA, edgecolors='lightgray', linewidth=1, cmap=cmap)\n",
    "plt.gca().set_aspect('equal')\n",
    "plt.gca().invert_yaxis()\n",
    "plt.yticks([0.5, 7.5, 15.5])\n",
    "plt.gca().set_yticklabels([\"\", \"\", \"\"])\n",
    "plt.xticks([0.5, 7.5])\n",
    "plt.gca().set_xticklabels([\"\", \"\"])\n",
    "plt.show()"
   ]
  },
  {
   "cell_type": "markdown",
   "metadata": {},
   "source": [
    "### Wang data (Fig. S4E)"
   ]
  },
  {
   "cell_type": "code",
   "execution_count": 52,
   "metadata": {},
   "outputs": [
    {
     "name": "stdout",
     "output_type": "stream",
     "text": [
      "Release sites: ['HR' 'R1' 'R2' 'R5' 'R6' 'R7']\n",
      "Num trials from regular home release: 62\n",
      "Num recruits: 61\n"
     ]
    },
    {
     "data": {
      "text/html": [
       "<div>\n",
       "<style scoped>\n",
       "    .dataframe tbody tr th:only-of-type {\n",
       "        vertical-align: middle;\n",
       "    }\n",
       "\n",
       "    .dataframe tbody tr th {\n",
       "        vertical-align: top;\n",
       "    }\n",
       "\n",
       "    .dataframe thead th {\n",
       "        text-align: right;\n",
       "    }\n",
       "</style>\n",
       "<table border=\"1\" class=\"dataframe\">\n",
       "  <thead>\n",
       "    <tr style=\"text-align: right;\">\n",
       "      <th></th>\n",
       "      <th>Bee</th>\n",
       "      <th>alpha</th>\n",
       "      <th>LVL</th>\n",
       "      <th>AVL</th>\n",
       "      <th>Str</th>\n",
       "      <th>speed</th>\n",
       "      <th>De_Fr</th>\n",
       "      <th>De_Fv</th>\n",
       "      <th>Rsite</th>\n",
       "      <th>alphaRad</th>\n",
       "      <th>RsiteEW</th>\n",
       "      <th>RsiteNS</th>\n",
       "      <th>sTrow</th>\n",
       "      <th>final_lvl_pos_x</th>\n",
       "      <th>final_lvl_pos_y</th>\n",
       "    </tr>\n",
       "  </thead>\n",
       "  <tbody>\n",
       "    <tr>\n",
       "      <th>0</th>\n",
       "      <td>g159</td>\n",
       "      <td>68.227534</td>\n",
       "      <td>235.213321</td>\n",
       "      <td>242.092639</td>\n",
       "      <td>0.971584</td>\n",
       "      <td>7.336141</td>\n",
       "      <td>162.515686</td>\n",
       "      <td>162.515686</td>\n",
       "      <td>HR</td>\n",
       "      <td>1.190795</td>\n",
       "      <td>0</td>\n",
       "      <td>0</td>\n",
       "      <td>1.0</td>\n",
       "      <td>218.434187</td>\n",
       "      <td>87.245702</td>\n",
       "    </tr>\n",
       "    <tr>\n",
       "      <th>1</th>\n",
       "      <td>r271</td>\n",
       "      <td>68.694838</td>\n",
       "      <td>359.995534</td>\n",
       "      <td>379.859127</td>\n",
       "      <td>0.947708</td>\n",
       "      <td>9.739978</td>\n",
       "      <td>39.220032</td>\n",
       "      <td>39.220032</td>\n",
       "      <td>HR</td>\n",
       "      <td>1.198951</td>\n",
       "      <td>0</td>\n",
       "      <td>0</td>\n",
       "      <td>2.0</td>\n",
       "      <td>335.392899</td>\n",
       "      <td>130.799035</td>\n",
       "    </tr>\n",
       "    <tr>\n",
       "      <th>2</th>\n",
       "      <td>y139</td>\n",
       "      <td>69.592051</td>\n",
       "      <td>196.957480</td>\n",
       "      <td>219.162687</td>\n",
       "      <td>0.898682</td>\n",
       "      <td>9.528812</td>\n",
       "      <td>200.328509</td>\n",
       "      <td>200.328509</td>\n",
       "      <td>HR</td>\n",
       "      <td>1.214610</td>\n",
       "      <td>0</td>\n",
       "      <td>0</td>\n",
       "      <td>NaN</td>\n",
       "      <td>184.595172</td>\n",
       "      <td>68.679483</td>\n",
       "    </tr>\n",
       "    <tr>\n",
       "      <th>3</th>\n",
       "      <td>y176</td>\n",
       "      <td>74.194609</td>\n",
       "      <td>276.884051</td>\n",
       "      <td>334.753229</td>\n",
       "      <td>0.827129</td>\n",
       "      <td>8.583416</td>\n",
       "      <td>121.959779</td>\n",
       "      <td>121.959779</td>\n",
       "      <td>HR</td>\n",
       "      <td>1.294940</td>\n",
       "      <td>0</td>\n",
       "      <td>0</td>\n",
       "      <td>3.0</td>\n",
       "      <td>266.415721</td>\n",
       "      <td>75.415127</td>\n",
       "    </tr>\n",
       "    <tr>\n",
       "      <th>4</th>\n",
       "      <td>y123</td>\n",
       "      <td>70.732013</td>\n",
       "      <td>195.974782</td>\n",
       "      <td>203.087728</td>\n",
       "      <td>0.964976</td>\n",
       "      <td>8.123509</td>\n",
       "      <td>201.096968</td>\n",
       "      <td>201.096968</td>\n",
       "      <td>HR</td>\n",
       "      <td>1.234507</td>\n",
       "      <td>0</td>\n",
       "      <td>0</td>\n",
       "      <td>4.0</td>\n",
       "      <td>184.997347</td>\n",
       "      <td>64.669133</td>\n",
       "    </tr>\n",
       "  </tbody>\n",
       "</table>\n",
       "</div>"
      ],
      "text/plain": [
       "    Bee      alpha         LVL         AVL       Str     speed       De_Fr  \\\n",
       "0  g159  68.227534  235.213321  242.092639  0.971584  7.336141  162.515686   \n",
       "1  r271  68.694838  359.995534  379.859127  0.947708  9.739978   39.220032   \n",
       "2  y139  69.592051  196.957480  219.162687  0.898682  9.528812  200.328509   \n",
       "3  y176  74.194609  276.884051  334.753229  0.827129  8.583416  121.959779   \n",
       "4  y123  70.732013  195.974782  203.087728  0.964976  8.123509  201.096968   \n",
       "\n",
       "        De_Fv Rsite  alphaRad  RsiteEW  RsiteNS  sTrow  final_lvl_pos_x  \\\n",
       "0  162.515686    HR  1.190795        0        0    1.0       218.434187   \n",
       "1   39.220032    HR  1.198951        0        0    2.0       335.392899   \n",
       "2  200.328509    HR  1.214610        0        0    NaN       184.595172   \n",
       "3  121.959779    HR  1.294940        0        0    3.0       266.415721   \n",
       "4  201.096968    HR  1.234507        0        0    4.0       184.997347   \n",
       "\n",
       "   final_lvl_pos_y  \n",
       "0        87.245702  \n",
       "1       130.799035  \n",
       "2        68.679483  \n",
       "3        75.415127  \n",
       "4        64.669133  "
      ]
     },
     "execution_count": 52,
     "metadata": {},
     "output_type": "execute_result"
    }
   ],
   "source": [
    "vt_df = pd.read_csv(f\"{data_root / 'wang' / 'vT.txt'}\")\n",
    "vt_df[\"final_lvl_pos_x\"] = vt_df.apply(lambda df: df[\"LVL\"] * np.sin(np.radians(df[\"alpha\"])), axis=1)\n",
    "vt_df[\"final_lvl_pos_y\"] = vt_df.apply(lambda df: df[\"LVL\"] * np.cos(np.radians(df[\"alpha\"])), axis=1)\n",
    "print(\"Release sites:\", vt_df[\"Rsite\"].unique())\n",
    "sub_df = vt_df[vt_df[\"Rsite\"] == \"HR\"]\n",
    "print(\"Num trials from regular home release:\", sub_df.shape[0])\n",
    "print(\"Num recruits:\", len(sub_df[\"Bee\"].unique()))\n",
    "hr_to_feeder_bearing = 71 # Degrees\n",
    "hr_to_feeder = 384 # meters\n",
    "sub_df.head()"
   ]
  },
  {
   "cell_type": "code",
   "execution_count": 53,
   "metadata": {},
   "outputs": [
    {
     "data": {
      "image/png": "[encoded data removed]",
      "text/plain": [
       "<Figure size 300x200 with 1 Axes>"
      ]
     },
     "metadata": {},
     "output_type": "display_data"
    }
   ],
   "source": [
    "plt.figure(figsize=(3, 2))\n",
    "consistent_colours = []\n",
    "for i, (index, row) in enumerate(sub_df.iterrows()):\n",
    "    color = cmap(np.random.uniform(0, 1))\n",
    "    consistent_colours.append(color)\n",
    "    plt.scatter(row[\"final_lvl_pos_x\"], row[\"final_lvl_pos_y\"], color=color, s=12)\n",
    "    \n",
    "plt.ylabel(\"\")\n",
    "plt.xlabel(\"\")\n",
    "plt.ylim(-20, 700)\n",
    "plt.xlim(-20, 900)\n",
    "ax = plt.gca()\n",
    "ax.set_yticks([0, 300, 600])\n",
    "ax.set_xticks([0, 300, 600, 900])\n",
    "ax.set_yticklabels([])\n",
    "ax.set_xticklabels([])\n",
    "ax.spines[\"top\"].set_visible(False)\n",
    "ax.spines[\"right\"].set_visible(False)\n",
    "\n",
    "ax.set_aspect('equal')\n",
    "x = hr_to_feeder * np.sin(np.radians(hr_to_feeder_bearing))\n",
    "y = hr_to_feeder * np.cos(np.radians(hr_to_feeder_bearing))\n",
    "feeder = plt.Circle((x, y), 5, color='black', label=\"Feeder\")\n",
    "ax.add_patch(feeder)  # Nest is at (0,0)\n",
    "plt.show()"
   ]
  },
  {
   "cell_type": "code",
   "execution_count": 54,
   "metadata": {},
   "outputs": [
    {
     "name": "stdout",
     "output_type": "stream",
     "text": [
      "914.774660831836\n"
     ]
    },
    {
     "data": {
      "image/png": "[encoded data removed]",
      "text/plain": [
       "<Figure size 170x170 with 1 Axes>"
      ]
     },
     "metadata": {},
     "output_type": "display_data"
    }
   ],
   "source": [
    "fig, ax = plt.subplots(subplot_kw=dict(projection='polar'), figsize=(1.7,1.7))\n",
    "max_frame = 0\n",
    "alpha = 0.8\n",
    "for i, (index, row) in enumerate(sub_df.iterrows()):\n",
    "    final_angle_error = np.radians(row[\"alpha\"])\n",
    "    final_frame = row[\"LVL\"]\n",
    "    max_frame = max(max_frame, final_frame)\n",
    "    ax.plot([0.0, final_angle_error], [0, final_frame], color=consistent_colours[i], linewidth=2, alpha=alpha)\n",
    "print(max_frame)\n",
    "max_frame = hr_to_feeder\n",
    "ax.set_ylim(0, max_frame)\n",
    "ax.set_yticklabels(\"\")\n",
    "ax.set_yticks([])\n",
    "ax.set_yticklabels([])\n",
    "ax.set_theta_direction(-1)\n",
    "lw = 0.9\n",
    "circle = plt.Circle((0.0, 0.0), max_frame, transform=ax.transData._b, fill=False, linewidth=1.5, zorder=2)\n",
    "ax.add_artist(circle)\n",
    "ax.axvline(np.radians(hr_to_feeder_bearing), 0, 180, color=\"#BCBCBC\", linewidth=lw, zorder=-1, alpha=1)\n",
    "ax.axvline(np.radians(hr_to_feeder_bearing) + np.radians(180), 0, 180, color=\"#BCBCBC\", linewidth=lw, zorder=-1, alpha=1)\n",
    "ax.axvline(np.radians(hr_to_feeder_bearing) + np.radians(90) , 0, 180, color=\"#BCBCBC\", linewidth=lw, zorder=-1, alpha=1)\n",
    "ax.axvline(np.radians(hr_to_feeder_bearing) + np.radians(-90), 0, 180, color=\"#BCBCBC\", linewidth=lw, zorder=-1, alpha=1)\n",
    "ax.set_theta_zero_location(\"N\")\n",
    "ax.set_thetamin(-180)\n",
    "ax.set_thetamax(180)\n",
    "ax.set_thetagrids([], fontsize=11)\n",
    "ax.spines['polar'].set_visible(False)"
   ]
  },
  {
   "cell_type": "code",
   "execution_count": 55,
   "metadata": {},
   "outputs": [
    {
     "name": "stdout",
     "output_type": "stream",
     "text": [
      "914.774660831836\n"
     ]
    },
    {
     "data": {
      "image/png": "[encoded data removed]",
      "text/plain": [
       "<Figure size 250x250 with 1 Axes>"
      ]
     },
     "metadata": {},
     "output_type": "display_data"
    }
   ],
   "source": [
    "fig, ax = plt.subplots(subplot_kw=dict(projection='polar'), figsize=(2.5, 2.5))\n",
    "max_frame = 0\n",
    "alpha = 0.8\n",
    "for i, (index, row) in enumerate(sub_df.iterrows()):\n",
    "    final_angle_error = np.radians(row[\"alpha\"])\n",
    "    final_frame = row[\"LVL\"]\n",
    "    max_frame = max(max_frame, final_frame)\n",
    "    ax.plot([0.0, final_angle_error], [0, final_frame], color=consistent_colours[i], linewidth=2, alpha=alpha)\n",
    "\n",
    "print(max_frame)\n",
    "ax.set_ylim(0, max_frame)\n",
    "circle = plt.Circle((0.0, 0.0), max_frame, transform=ax.transData._b, fill=False, linewidth=0.5, zorder=2, color=\"#BCBCBC\")\n",
    "ax.add_artist(circle)\n",
    "max_frame = hr_to_feeder\n",
    "ax.set_theta_direction(-1) \n",
    "ax.set_yticklabels(\"\")\n",
    "ax.set_yticks([])\n",
    "ax.set_yticklabels([])\n",
    "lw = 0.9\n",
    "circle = plt.Circle((0.0, 0.0), max_frame, transform=ax.transData._b, fill=False, linewidth=1.5, zorder=2)\n",
    "ax.add_artist(circle)\n",
    "ax.axvline(np.radians(hr_to_feeder_bearing), 0, 180, color=\"#BCBCBC\", linewidth=lw, zorder=-1, alpha=1)\n",
    "ax.axvline(np.radians(hr_to_feeder_bearing) + np.radians(180), 0, 180, color=\"#BCBCBC\", linewidth=lw, zorder=-1, alpha=1)\n",
    "ax.axvline(np.radians(hr_to_feeder_bearing) + np.radians(90) , 0, 180, color=\"#BCBCBC\", linewidth=lw, zorder=-1, alpha=1)\n",
    "ax.axvline(np.radians(hr_to_feeder_bearing) + np.radians(-90), 0, 180, color=\"#BCBCBC\", linewidth=lw, zorder=-1, alpha=1)\n",
    "ax.set_theta_zero_location(\"N\")\n",
    "ax.set_thetamin(-180)\n",
    "ax.set_thetamax(180)\n",
    "ax.set_thetagrids([], fontsize=11)\n",
    "ax.spines['polar'].set_visible(False)\n",
    "# Rotate to centre grey axis (centred on feeder)"
   ]
  },
  {
   "cell_type": "code",
   "execution_count": 56,
   "metadata": {},
   "outputs": [
    {
     "name": "stderr",
     "output_type": "stream",
     "text": [
      "/var/folders/zk/_6v92pbn1jb2gnrh76qkpng1y98vd4/T/ipykernel_13621/3683433562.py:13: UserWarning: \n",
      "The palette list has fewer values (2) than needed (3) and will cycle, which may produce an uninterpretable plot.\n",
      "  ax = sns.boxplot(data=plot_df, x=\"dataset\", y=\"abs_deg\", width=0.65, showfliers=True, palette=[\"white\", \"#E0E0E0\"], **BXPLT_PROPS)\n",
      "/var/folders/zk/_6v92pbn1jb2gnrh76qkpng1y98vd4/T/ipykernel_13621/3683433562.py:14: UserWarning: set_ticklabels() should only be used with a fixed number of ticks, i.e. after set_ticks() or using a FixedLocator.\n",
      "  ax.set_xticklabels(ax.get_xticklabels(),rotation=80)\n",
      "/var/folders/zk/_6v92pbn1jb2gnrh76qkpng1y98vd4/T/ipykernel_13621/3683433562.py:19: UserWarning: set_ticklabels() should only be used with a fixed number of ticks, i.e. after set_ticks() or using a FixedLocator.\n",
      "  ax.set_xticklabels([\"Wang_AllRS\", \"Wang_HR\", \"Ours\"])\n"
     ]
    },
    {
     "data": {
      "image/png": "[encoded data removed]",
      "text/plain": [
       "<Figure size 150x200 with 1 Axes>"
      ]
     },
     "metadata": {},
     "output_type": "display_data"
    }
   ],
   "source": [
    "def adjust_alpha(alpha):\n",
    "    return np.where(alpha > hr_to_feeder_bearing, alpha - hr_to_feeder_bearing, hr_to_feeder_bearing - alpha)\n",
    "\n",
    "sub_df[\"abs_deg\"] = adjust_alpha(sub_df[\"alpha\"])\n",
    "sub_df[\"dataset\"] = \"Wang\"\n",
    "vt_df[\"abs_deg\"] = adjust_alpha(vt_df[\"alpha\"])\n",
    "vt_df[\"dataset\"] = \"WangAll\"\n",
    "own_data = pd.read_csv(f\"{data_root / experiment_run_date}-foodward_error_vector_averaging_midpt.csv\")\n",
    "own_data[\"dataset\"] = \"Ours\"\n",
    "plot_df = pd.concat([vt_df, sub_df, own_data])\n",
    "\n",
    "plt.figure(figsize=(1.5, 2.0))\n",
    "ax = sns.boxplot(data=plot_df, x=\"dataset\", y=\"abs_deg\", width=0.65, showfliers=True, palette=[\"white\", \"#E0E0E0\"], **BXPLT_PROPS)\n",
    "ax.set_xticklabels(ax.get_xticklabels(),rotation=80)\n",
    "ax.set_yticks([0, 90])\n",
    "ax.set_yticklabels([\"\", \"\"])\n",
    "ax.set_ylabel(\"\")\n",
    "ax.set_xlabel(\"\")\n",
    "ax.set_xticklabels([\"Wang_AllRS\", \"Wang_HR\", \"Ours\"])\n",
    "plt.legend([],[], frameon=False)\n",
    "ax.spines[\"top\"].set_visible(False)\n",
    "ax.spines[\"right\"].set_visible(False)"
   ]
  }
 ],
 "metadata": {
  "kernelspec": {
   "display_name": "Python 3.9.5 ('.venv': venv)",
   "language": "python",
   "name": "python3"
  },
  "language_info": {
   "codemirror_mode": {
    "name": "ipython",
    "version": 3
   },
   "file_extension": ".py",
   "mimetype": "text/x-python",
   "name": "python",
   "nbconvert_exporter": "python",
   "pygments_lexer": "ipython3",
   "version": "3.9.5"
  },
  "orig_nbformat": 4,
  "vscode": {
   "interpreter": {
    "hash": "b2ba67bb3ffecb8f64b4a27cc672deb88406983c632e5c9ced5bbcb53b14d96c"
   }
  }
 },
 "nbformat": 4,
 "nbformat_minor": 2
}
